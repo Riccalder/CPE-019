{
  "nbformat": 4,
  "nbformat_minor": 0,
  "metadata": {
    "kernelspec": {
      "display_name": "Python 3",
      "language": "python",
      "name": "python3"
    },
    "language_info": {
      "codemirror_mode": {
        "name": "ipython",
        "version": 3
      },
      "file_extension": ".py",
      "mimetype": "text/x-python",
      "name": "python",
      "nbconvert_exporter": "python",
      "pygments_lexer": "ipython3",
      "version": "3.7.7"
    },
    "colab": {
      "provenance": [],
      "include_colab_link": true
    },
    "accelerator": "GPU"
  },
  "cells": [
    {
      "cell_type": "markdown",
      "metadata": {
        "id": "view-in-github",
        "colab_type": "text"
      },
      "source": [
        "<a href=\"https://colab.research.google.com/github/Riccalder/CPE-019/blob/main/Calderon_Hands_On_Activity_1_1_Python_Challenge.ipynb\" target=\"_parent\"><img src=\"https://colab.research.google.com/assets/colab-badge.svg\" alt=\"Open In Colab\"/></a>"
      ]
    },
    {
      "cell_type": "markdown",
      "metadata": {
        "id": "WUQHSYAH8A15"
      },
      "source": [
        "\n",
        "| <h1> Activity 1.1 </h1> | <h1> Python Challenge </h1> |\n",
        "|--- | --- |\n",
        "Name: Calderon, Ricardo B.<br>\n",
        "Course and Section: CPE019S3 <br>\n",
        "Instructor:Sir Roman Richard\n",
        "Date Performed:01/24/2024\n",
        "Date Submitted:01/24/2024\n",
        "\n",
        "<hr>\n",
        "\n",
        "**Instructions**: Answer the questions or complete the tasks outlined below, use the specific method described if applicable. Insert a code cell after each text cell.\n",
        "\n",
        "**Objectives:**\n",
        "- Test understanding of Python basics\n",
        "- Review Python basic to intermediate commands\n",
        "\n",
        "<hr>"
      ]
    },
    {
      "cell_type": "markdown",
      "metadata": {
        "id": "-7dT6HEt8A1_"
      },
      "source": [
        "1. What is 3 to the power of 5?"
      ]
    },
    {
      "cell_type": "code",
      "source": [
        "result = 3 ** 5\n",
        "print(result)\n"
      ],
      "metadata": {
        "id": "CiAIi_wlM23B",
        "colab": {
          "base_uri": "https://localhost:8080/"
        },
        "outputId": "9e998a74-caf8-41f1-f8f8-cc9bd1796cf8"
      },
      "execution_count": null,
      "outputs": [
        {
          "output_type": "stream",
          "name": "stdout",
          "text": [
            "243\n"
          ]
        }
      ]
    },
    {
      "cell_type": "markdown",
      "metadata": {
        "id": "TpUg2QaM8A2C"
      },
      "source": [
        "2.  Create a variable, s, containing the string \"This course is amazing!\". Using the variable, split the string into a list."
      ]
    },
    {
      "cell_type": "code",
      "source": [
        "s = \"This course is amazing!\"\n",
        "split_s = s.split()\n",
        "\n",
        "print(split_s)\n"
      ],
      "metadata": {
        "id": "AmSwowsTCUwA",
        "outputId": "1beaaae4-e0ae-4500-8827-ef3fd68e2707",
        "colab": {
          "base_uri": "https://localhost:8080/"
        }
      },
      "execution_count": null,
      "outputs": [
        {
          "output_type": "stream",
          "name": "stdout",
          "text": [
            "['This', 'course', 'is', 'amazing!']\n"
          ]
        }
      ]
    },
    {
      "cell_type": "code",
      "source": [
        "['This', 'course', 'is', 'amazing!']\n"
      ],
      "metadata": {
        "id": "hGA7_WdVFKR5",
        "colab": {
          "base_uri": "https://localhost:8080/"
        },
        "outputId": "10eeb4c7-feb6-439a-8a32-033e200ec0e4"
      },
      "execution_count": null,
      "outputs": [
        {
          "output_type": "execute_result",
          "data": {
            "text/plain": [
              "['This', 'course', 'is', 'amazing!']"
            ]
          },
          "metadata": {},
          "execution_count": 3
        }
      ]
    },
    {
      "cell_type": "markdown",
      "source": [],
      "metadata": {
        "id": "9TdXYFbeFNMX"
      }
    },
    {
      "cell_type": "markdown",
      "metadata": {
        "id": "B3yPY5pD8A2D"
      },
      "source": [
        "3.  Given the variables height and mountain, use .format() to print the following string:\n",
        "`The height of Mt. Everest is 8848 meters.`"
      ]
    },
    {
      "cell_type": "code",
      "source": [
        "height = 8848\n",
        "mountain = \"Mt. Everest\"\n",
        "\n",
        "result_string = \"The height of {} is {} meters.\".format(mountain, height)\n",
        "\n",
        "print(result_string)"
      ],
      "metadata": {
        "id": "CjElTknNPaNS",
        "outputId": "413ba7a8-11f5-4651-8ce3-b94818550bdf",
        "colab": {
          "base_uri": "https://localhost:8080/"
        }
      },
      "execution_count": null,
      "outputs": [
        {
          "output_type": "stream",
          "name": "stdout",
          "text": [
            "The height of Mt. Everest is 8848 meters.\n"
          ]
        }
      ]
    },
    {
      "cell_type": "markdown",
      "metadata": {
        "id": "WPFy00ne8A2F"
      },
      "source": [
        "4. Given the following nested list, use indexing to grab the word \"this\".\n",
        "\n",
        "```\n",
        "lst = ['a','b',[4,10,11],['c',[1,66,['this']],2,111],'e',7]\n",
        "```"
      ]
    },
    {
      "cell_type": "markdown",
      "metadata": {
        "id": "cUA9kmWi8A2H"
      },
      "source": [
        "5. Given the following nested dictionary, grab the word \"that\". This exercise is a little more difficult."
      ]
    },
    {
      "cell_type": "markdown",
      "metadata": {
        "id": "-WrAu-KK8A2I"
      },
      "source": [
        "6. Create a function, GetDomain(), that grabs the email website domain from a string in the form: user@domain.com.\n",
        "So for example, passing \"user@domain.com\" would return: domain.com"
      ]
    },
    {
      "cell_type": "markdown",
      "metadata": {
        "id": "Fx4DIIz18A2K"
      },
      "source": [
        "7. Create a basic function, findInternet(), that returns True if the word 'Internet' is contained in the input string. Don't worry about edge cases like punctuation being attached to the word, but account for capitalization. (Hint: Please see https://docs.python.org/2/reference/expressions.html#in)"
      ]
    },
    {
      "cell_type": "markdown",
      "metadata": {
        "id": "4pPortmo8A2M"
      },
      "source": [
        "8. Create a function, countIoT(), that counts the number of times the word \"IoT\" occurs in a string. Ignore edge cases but take into account capitalization."
      ]
    },
    {
      "cell_type": "markdown",
      "metadata": {
        "id": "Hg-mqSUd8A2O"
      },
      "source": [
        "9. Use lambda expressions and the filter() function to filter out words from a list that do not start with the letter 'd'. For example:\n",
        "```\n",
        "seq = ['data','salt' ,'dairy','cat', 'dog']\n",
        "```\n",
        "should be filtered down to:\n",
        "```\n",
        "['data', 'dairy', 'dog']\n",
        "```"
      ]
    },
    {
      "cell_type": "markdown",
      "metadata": {
        "id": "i5HTJZtM8A2O"
      },
      "source": [
        "10. Use lambda expressions and the map() function to convert a list of words to upper case. For example:\n",
        "```\n",
        "seq = ['data','salt' ,'dairy','cat', 'dog']\n",
        "```\n",
        "should become:\n",
        "```\n",
        "['DATA', 'SALT', 'DAIRY', 'CAT', 'DOG']\n",
        "```"
      ]
    },
    {
      "cell_type": "markdown",
      "metadata": {
        "id": "1t6lwmWv8A2Q"
      },
      "source": [
        "11. Imagine a smart thermostat that is connected to the door, so that it can detect, in addition to the temperature, when people enter or leave the house. <br><br>Write a function that, if the temperature is lower than 20 degrees Celsius, and there are people in the house (encoded as a boolean value to be passed as a parameter to the function), turns on the heating by returning the string \"Heating on\". When the temperature reaches 23 degrees or there are no people in the house, it returns the string \"Heating off\". When none of these conditions are met, the function returns \"Do nothing\"."
      ]
    },
    {
      "cell_type": "markdown",
      "metadata": {
        "id": "HvZXBwvn8A2S"
      },
      "source": [
        "12. The function zip(list1, list2) returns a list of tuples, where the i-th tuple contains the i-th element from each of the argument lists. Use the zip function to create the following list of tuples: <br>\n",
        "```\n",
        "zipped = [('Parking', -1), ('Shops',0), ('Food Court',1), ('Offices',2)]\n",
        "```"
      ]
    },
    {
      "cell_type": "code",
      "metadata": {
        "id": "BmMSb6ys8A2T",
        "colab": {
          "base_uri": "https://localhost:8080/"
        },
        "outputId": "04dadd7e-5bfc-464c-84dd-89317982650c"
      },
      "source": [
        "floor_numbers = range(-1, 3)\n",
        "building_levels = ['Basement', 'Ground floor', 'First floor', 'Second floor']\n",
        "\n",
        "zipped = list(zip(floor_numbers, building_levels))\n",
        "\n",
        "print(zipped)\n"
      ],
      "execution_count": null,
      "outputs": [
        {
          "output_type": "stream",
          "name": "stdout",
          "text": [
            "[(-1, 'Basement'), (0, 'Ground floor'), (1, 'First floor'), (2, 'Second floor')]\n"
          ]
        }
      ]
    },
    {
      "cell_type": "markdown",
      "metadata": {
        "id": "I25Wddbt8A2U"
      },
      "source": [
        "13. Use the zip function and dict() to create a dictionary, elevator_dict, where the keys are the floor types and the values are the corresponding floor number so that:<br>\n",
        "```\n",
        "elevator_dict[-1] = 'Parking'\n",
        "```"
      ]
    },
    {
      "cell_type": "code",
      "metadata": {
        "colab": {
          "base_uri": "https://localhost:8080/"
        },
        "outputId": "0004d674-c69f-4f90-ee26-d31ee63479da",
        "id": "ZOhAAcbjBMnB"
      },
      "source": [
        "# Code cell 14\n",
        "floor_types = ['Parking', 'Shops', 'Food Court', 'Offices']\n",
        "floors_numbers = range(-1,3)\n",
        "elevator_dict = dict(zip(floor_numbers, floor_types))\n",
        "print(elevator_dict[-1])"
      ],
      "execution_count": null,
      "outputs": [
        {
          "output_type": "stream",
          "name": "stdout",
          "text": [
            "Parking\n"
          ]
        }
      ]
    },
    {
      "cell_type": "code",
      "metadata": {
        "id": "qExH72Zv8A2V",
        "colab": {
          "base_uri": "https://localhost:8080/",
          "height": 35
        },
        "outputId": "d0520de6-ec2c-44ca-a8d3-c2404f5d3183"
      },
      "source": [
        "# Code cell 15\n",
        "# Verify elevator_dict[-1]\n",
        "elevator_dict[-1]"
      ],
      "execution_count": null,
      "outputs": [
        {
          "output_type": "execute_result",
          "data": {
            "text/plain": [
              "'Parking'"
            ],
            "application/vnd.google.colaboratory.intrinsic+json": {
              "type": "string"
            }
          },
          "metadata": {},
          "execution_count": 7
        }
      ]
    },
    {
      "cell_type": "markdown",
      "metadata": {
        "id": "DXXKXxFv8A2V"
      },
      "source": [
        "14. Create an Elevator class. The constructor accepts the list of strings floor_types and the list of integers floor_numbers. The class implements the methods 'ask_which_floor' and 'go_to_floor'. The output of this methods should look as follows:\n",
        "```\n",
        "floor_types = ['Parking', 'Shops', 'Food Court', 'Offices']\n",
        "floors_numbers = range(-1,4)\n",
        "el = Elevator(floor_numbers, floor_types)\n",
        "el.go_to_floor(1)\n",
        "Going to Food Court floor!\n",
        "el.go_to_floor(-2)\n",
        "There is floor number -2 in this building.\n",
        "el.ask_which_floor('Offices')\n",
        "The floor Offices is the number: 2\n",
        "el.ask_which_floor('Swimming Pool')\n",
        "There is no Swimming Pool floor in this building.\n",
        "```"
      ]
    },
    {
      "cell_type": "markdown",
      "metadata": {
        "id": "a--gPBSR8A2Z"
      },
      "source": [
        "### Good Job!"
      ]
    }
  ]
}