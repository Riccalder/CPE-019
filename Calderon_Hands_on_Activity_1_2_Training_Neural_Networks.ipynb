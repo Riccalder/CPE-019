{
  "cells": [
    {
      "cell_type": "markdown",
      "metadata": {
        "id": "view-in-github",
        "colab_type": "text"
      },
      "source": [
        "<a href=\"https://colab.research.google.com/github/Riccalder/CPE-019/blob/main/Calderon_Hands_on_Activity_1_2_Training_Neural_Networks.ipynb\" target=\"_parent\"><img src=\"https://colab.research.google.com/assets/colab-badge.svg\" alt=\"Open In Colab\"/></a>"
      ]
    },
    {
      "cell_type": "markdown",
      "source": [
        "***NAME***: CALDERON RICARDO B.\n",
        "\n",
        "***COURSE&SECTION***: CPE019-CPE019S9\n",
        "\n",
        "***INSTRUCTURE***: ENGR. ROMAN RICHARD\n",
        "\n",
        "***DATE PERFORMED***: APRIL 08, 2024\n",
        "\n",
        "***DATE SUBMETTED***: APRIL 09, 2024\n",
        "\n",
        "\n"
      ],
      "metadata": {
        "id": "sh01jl0ClV4w"
      },
      "id": "sh01jl0ClV4w"
    },
    {
      "cell_type": "markdown",
      "id": "union-alcohol",
      "metadata": {
        "id": "union-alcohol"
      },
      "source": [
        "# Activity 1.2 : Training Neural Networks\n"
      ]
    },
    {
      "cell_type": "markdown",
      "id": "floppy-teens",
      "metadata": {
        "id": "floppy-teens"
      },
      "source": [
        "#### Objective(s):\n",
        "\n",
        "This activity aims to demonstrate how to train neural networks using keras"
      ]
    },
    {
      "cell_type": "markdown",
      "id": "engaged-modem",
      "metadata": {
        "id": "engaged-modem"
      },
      "source": [
        "#### Intended Learning Outcomes (ILOs):\n",
        "* Demonstrate how to build and train neural networks\n",
        "* Demonstrate how to evaluate and plot the model using training and validation loss\n"
      ]
    },
    {
      "cell_type": "markdown",
      "id": "structured-april",
      "metadata": {
        "id": "structured-april"
      },
      "source": [
        "#### Resources:\n",
        "* Jupyter Notebook\n",
        "\n",
        "CI Pima Diabetes Dataset\n",
        "\n",
        "* pima-indians-diabetes.csv\n"
      ]
    },
    {
      "cell_type": "markdown",
      "id": "cutting-fountain",
      "metadata": {
        "id": "cutting-fountain"
      },
      "source": [
        "#### Procedures"
      ]
    },
    {
      "cell_type": "code",
      "source": [
        "from google.colab import drive\n",
        "drive.mount(\"/content/drive\")"
      ],
      "metadata": {
        "colab": {
          "base_uri": "https://localhost:8080/"
        },
        "id": "gn2YvEOiukJ-",
        "outputId": "2b54670d-ff79-40e0-a811-0270c24827e4"
      },
      "id": "gn2YvEOiukJ-",
      "execution_count": null,
      "outputs": [
        {
          "output_type": "stream",
          "name": "stdout",
          "text": [
            "Mounted at /content/drive\n"
          ]
        }
      ]
    },
    {
      "cell_type": "markdown",
      "source": [],
      "metadata": {
        "id": "sXtVaLKuuFN6"
      },
      "id": "sXtVaLKuuFN6"
    },
    {
      "cell_type": "code",
      "execution_count": null,
      "id": "differential-native",
      "metadata": {
        "id": "differential-native"
      },
      "outputs": [],
      "source": [
        "import numpy as np\n",
        "import pandas as pd\n",
        "import matplotlib.pyplot as plt\n",
        "\n",
        "from sklearn.model_selection import train_test_split\n",
        "from sklearn.preprocessing import StandardScaler\n",
        "from sklearn.metrics import confusion_matrix, precision_recall_curve, roc_auc_score, roc_curve, accuracy_score\n",
        "from sklearn.ensemble import RandomForestClassifier\n",
        "\n",
        "import seaborn as sns\n",
        "\n",
        "%matplotlib inline"
      ]
    },
    {
      "cell_type": "code",
      "execution_count": null,
      "id": "other-married",
      "metadata": {
        "id": "other-married"
      },
      "outputs": [],
      "source": [
        "## Import Keras objects for Deep Learning\n",
        "\n",
        "from keras.models  import Sequential\n",
        "from keras.layers import Input, Dense, Flatten, Dropout, BatchNormalization\n",
        "from keras.optimizers import Adam, SGD, RMSprop"
      ]
    },
    {
      "cell_type": "markdown",
      "id": "mexican-newsletter",
      "metadata": {
        "id": "mexican-newsletter"
      },
      "source": [
        "Load the dataset"
      ]
    },
    {
      "cell_type": "code",
      "execution_count": null,
      "id": "studied-twelve",
      "metadata": {
        "id": "studied-twelve"
      },
      "outputs": [],
      "source": [
        "filepath = \"/content/drive/MyDrive/CPE019/pima-indians-diabetes.csv\"\n",
        "names = [\"times_pregnant\", \"glucose_tolerance_test\", \"blood_pressure\", \"skin_thickness\", \"insulin\",\n",
        "         \"bmi\", \"pedigree_function\", \"age\", \"has_diabetes\"]\n",
        "diabetes_df = pd.read_csv(filepath, names=names)"
      ]
    },
    {
      "cell_type": "markdown",
      "id": "photographic-carnival",
      "metadata": {
        "id": "photographic-carnival"
      },
      "source": [
        "Check the top 5 samples of the data"
      ]
    },
    {
      "cell_type": "code",
      "execution_count": null,
      "id": "undefined-inventory",
      "metadata": {
        "id": "undefined-inventory",
        "colab": {
          "base_uri": "https://localhost:8080/",
          "height": 223
        },
        "outputId": "1581b3ee-38ec-4186-e690-aa89dece4a27"
      },
      "outputs": [
        {
          "output_type": "stream",
          "name": "stdout",
          "text": [
            "(768, 9)\n"
          ]
        },
        {
          "output_type": "execute_result",
          "data": {
            "text/plain": [
              "     times_pregnant  glucose_tolerance_test  blood_pressure  skin_thickness  \\\n",
              "733               2                     106              56              27   \n",
              "543               4                      84              90              23   \n",
              "247               0                     165              90              33   \n",
              "356               1                     125              50              40   \n",
              "189               5                     139              80              35   \n",
              "\n",
              "     insulin   bmi  pedigree_function  age  has_diabetes  \n",
              "733      165  29.0              0.426   22             0  \n",
              "543       56  39.5              0.159   25             0  \n",
              "247      680  52.3              0.427   23             0  \n",
              "356      167  33.3              0.962   28             1  \n",
              "189      160  31.6              0.361   25             1  "
            ],
            "text/html": [
              "\n",
              "  <div id=\"df-a37d5fce-dd3a-4362-8414-10f44160ef57\" class=\"colab-df-container\">\n",
              "    <div>\n",
              "<style scoped>\n",
              "    .dataframe tbody tr th:only-of-type {\n",
              "        vertical-align: middle;\n",
              "    }\n",
              "\n",
              "    .dataframe tbody tr th {\n",
              "        vertical-align: top;\n",
              "    }\n",
              "\n",
              "    .dataframe thead th {\n",
              "        text-align: right;\n",
              "    }\n",
              "</style>\n",
              "<table border=\"1\" class=\"dataframe\">\n",
              "  <thead>\n",
              "    <tr style=\"text-align: right;\">\n",
              "      <th></th>\n",
              "      <th>times_pregnant</th>\n",
              "      <th>glucose_tolerance_test</th>\n",
              "      <th>blood_pressure</th>\n",
              "      <th>skin_thickness</th>\n",
              "      <th>insulin</th>\n",
              "      <th>bmi</th>\n",
              "      <th>pedigree_function</th>\n",
              "      <th>age</th>\n",
              "      <th>has_diabetes</th>\n",
              "    </tr>\n",
              "  </thead>\n",
              "  <tbody>\n",
              "    <tr>\n",
              "      <th>733</th>\n",
              "      <td>2</td>\n",
              "      <td>106</td>\n",
              "      <td>56</td>\n",
              "      <td>27</td>\n",
              "      <td>165</td>\n",
              "      <td>29.0</td>\n",
              "      <td>0.426</td>\n",
              "      <td>22</td>\n",
              "      <td>0</td>\n",
              "    </tr>\n",
              "    <tr>\n",
              "      <th>543</th>\n",
              "      <td>4</td>\n",
              "      <td>84</td>\n",
              "      <td>90</td>\n",
              "      <td>23</td>\n",
              "      <td>56</td>\n",
              "      <td>39.5</td>\n",
              "      <td>0.159</td>\n",
              "      <td>25</td>\n",
              "      <td>0</td>\n",
              "    </tr>\n",
              "    <tr>\n",
              "      <th>247</th>\n",
              "      <td>0</td>\n",
              "      <td>165</td>\n",
              "      <td>90</td>\n",
              "      <td>33</td>\n",
              "      <td>680</td>\n",
              "      <td>52.3</td>\n",
              "      <td>0.427</td>\n",
              "      <td>23</td>\n",
              "      <td>0</td>\n",
              "    </tr>\n",
              "    <tr>\n",
              "      <th>356</th>\n",
              "      <td>1</td>\n",
              "      <td>125</td>\n",
              "      <td>50</td>\n",
              "      <td>40</td>\n",
              "      <td>167</td>\n",
              "      <td>33.3</td>\n",
              "      <td>0.962</td>\n",
              "      <td>28</td>\n",
              "      <td>1</td>\n",
              "    </tr>\n",
              "    <tr>\n",
              "      <th>189</th>\n",
              "      <td>5</td>\n",
              "      <td>139</td>\n",
              "      <td>80</td>\n",
              "      <td>35</td>\n",
              "      <td>160</td>\n",
              "      <td>31.6</td>\n",
              "      <td>0.361</td>\n",
              "      <td>25</td>\n",
              "      <td>1</td>\n",
              "    </tr>\n",
              "  </tbody>\n",
              "</table>\n",
              "</div>\n",
              "    <div class=\"colab-df-buttons\">\n",
              "\n",
              "  <div class=\"colab-df-container\">\n",
              "    <button class=\"colab-df-convert\" onclick=\"convertToInteractive('df-a37d5fce-dd3a-4362-8414-10f44160ef57')\"\n",
              "            title=\"Convert this dataframe to an interactive table.\"\n",
              "            style=\"display:none;\">\n",
              "\n",
              "  <svg xmlns=\"http://www.w3.org/2000/svg\" height=\"24px\" viewBox=\"0 -960 960 960\">\n",
              "    <path d=\"M120-120v-720h720v720H120Zm60-500h600v-160H180v160Zm220 220h160v-160H400v160Zm0 220h160v-160H400v160ZM180-400h160v-160H180v160Zm440 0h160v-160H620v160ZM180-180h160v-160H180v160Zm440 0h160v-160H620v160Z\"/>\n",
              "  </svg>\n",
              "    </button>\n",
              "\n",
              "  <style>\n",
              "    .colab-df-container {\n",
              "      display:flex;\n",
              "      gap: 12px;\n",
              "    }\n",
              "\n",
              "    .colab-df-convert {\n",
              "      background-color: #E8F0FE;\n",
              "      border: none;\n",
              "      border-radius: 50%;\n",
              "      cursor: pointer;\n",
              "      display: none;\n",
              "      fill: #1967D2;\n",
              "      height: 32px;\n",
              "      padding: 0 0 0 0;\n",
              "      width: 32px;\n",
              "    }\n",
              "\n",
              "    .colab-df-convert:hover {\n",
              "      background-color: #E2EBFA;\n",
              "      box-shadow: 0px 1px 2px rgba(60, 64, 67, 0.3), 0px 1px 3px 1px rgba(60, 64, 67, 0.15);\n",
              "      fill: #174EA6;\n",
              "    }\n",
              "\n",
              "    .colab-df-buttons div {\n",
              "      margin-bottom: 4px;\n",
              "    }\n",
              "\n",
              "    [theme=dark] .colab-df-convert {\n",
              "      background-color: #3B4455;\n",
              "      fill: #D2E3FC;\n",
              "    }\n",
              "\n",
              "    [theme=dark] .colab-df-convert:hover {\n",
              "      background-color: #434B5C;\n",
              "      box-shadow: 0px 1px 3px 1px rgba(0, 0, 0, 0.15);\n",
              "      filter: drop-shadow(0px 1px 2px rgba(0, 0, 0, 0.3));\n",
              "      fill: #FFFFFF;\n",
              "    }\n",
              "  </style>\n",
              "\n",
              "    <script>\n",
              "      const buttonEl =\n",
              "        document.querySelector('#df-a37d5fce-dd3a-4362-8414-10f44160ef57 button.colab-df-convert');\n",
              "      buttonEl.style.display =\n",
              "        google.colab.kernel.accessAllowed ? 'block' : 'none';\n",
              "\n",
              "      async function convertToInteractive(key) {\n",
              "        const element = document.querySelector('#df-a37d5fce-dd3a-4362-8414-10f44160ef57');\n",
              "        const dataTable =\n",
              "          await google.colab.kernel.invokeFunction('convertToInteractive',\n",
              "                                                    [key], {});\n",
              "        if (!dataTable) return;\n",
              "\n",
              "        const docLinkHtml = 'Like what you see? Visit the ' +\n",
              "          '<a target=\"_blank\" href=https://colab.research.google.com/notebooks/data_table.ipynb>data table notebook</a>'\n",
              "          + ' to learn more about interactive tables.';\n",
              "        element.innerHTML = '';\n",
              "        dataTable['output_type'] = 'display_data';\n",
              "        await google.colab.output.renderOutput(dataTable, element);\n",
              "        const docLink = document.createElement('div');\n",
              "        docLink.innerHTML = docLinkHtml;\n",
              "        element.appendChild(docLink);\n",
              "      }\n",
              "    </script>\n",
              "  </div>\n",
              "\n",
              "\n",
              "<div id=\"df-18e1c92a-2149-4dfd-a099-14410032826e\">\n",
              "  <button class=\"colab-df-quickchart\" onclick=\"quickchart('df-18e1c92a-2149-4dfd-a099-14410032826e')\"\n",
              "            title=\"Suggest charts\"\n",
              "            style=\"display:none;\">\n",
              "\n",
              "<svg xmlns=\"http://www.w3.org/2000/svg\" height=\"24px\"viewBox=\"0 0 24 24\"\n",
              "     width=\"24px\">\n",
              "    <g>\n",
              "        <path d=\"M19 3H5c-1.1 0-2 .9-2 2v14c0 1.1.9 2 2 2h14c1.1 0 2-.9 2-2V5c0-1.1-.9-2-2-2zM9 17H7v-7h2v7zm4 0h-2V7h2v10zm4 0h-2v-4h2v4z\"/>\n",
              "    </g>\n",
              "</svg>\n",
              "  </button>\n",
              "\n",
              "<style>\n",
              "  .colab-df-quickchart {\n",
              "      --bg-color: #E8F0FE;\n",
              "      --fill-color: #1967D2;\n",
              "      --hover-bg-color: #E2EBFA;\n",
              "      --hover-fill-color: #174EA6;\n",
              "      --disabled-fill-color: #AAA;\n",
              "      --disabled-bg-color: #DDD;\n",
              "  }\n",
              "\n",
              "  [theme=dark] .colab-df-quickchart {\n",
              "      --bg-color: #3B4455;\n",
              "      --fill-color: #D2E3FC;\n",
              "      --hover-bg-color: #434B5C;\n",
              "      --hover-fill-color: #FFFFFF;\n",
              "      --disabled-bg-color: #3B4455;\n",
              "      --disabled-fill-color: #666;\n",
              "  }\n",
              "\n",
              "  .colab-df-quickchart {\n",
              "    background-color: var(--bg-color);\n",
              "    border: none;\n",
              "    border-radius: 50%;\n",
              "    cursor: pointer;\n",
              "    display: none;\n",
              "    fill: var(--fill-color);\n",
              "    height: 32px;\n",
              "    padding: 0;\n",
              "    width: 32px;\n",
              "  }\n",
              "\n",
              "  .colab-df-quickchart:hover {\n",
              "    background-color: var(--hover-bg-color);\n",
              "    box-shadow: 0 1px 2px rgba(60, 64, 67, 0.3), 0 1px 3px 1px rgba(60, 64, 67, 0.15);\n",
              "    fill: var(--button-hover-fill-color);\n",
              "  }\n",
              "\n",
              "  .colab-df-quickchart-complete:disabled,\n",
              "  .colab-df-quickchart-complete:disabled:hover {\n",
              "    background-color: var(--disabled-bg-color);\n",
              "    fill: var(--disabled-fill-color);\n",
              "    box-shadow: none;\n",
              "  }\n",
              "\n",
              "  .colab-df-spinner {\n",
              "    border: 2px solid var(--fill-color);\n",
              "    border-color: transparent;\n",
              "    border-bottom-color: var(--fill-color);\n",
              "    animation:\n",
              "      spin 1s steps(1) infinite;\n",
              "  }\n",
              "\n",
              "  @keyframes spin {\n",
              "    0% {\n",
              "      border-color: transparent;\n",
              "      border-bottom-color: var(--fill-color);\n",
              "      border-left-color: var(--fill-color);\n",
              "    }\n",
              "    20% {\n",
              "      border-color: transparent;\n",
              "      border-left-color: var(--fill-color);\n",
              "      border-top-color: var(--fill-color);\n",
              "    }\n",
              "    30% {\n",
              "      border-color: transparent;\n",
              "      border-left-color: var(--fill-color);\n",
              "      border-top-color: var(--fill-color);\n",
              "      border-right-color: var(--fill-color);\n",
              "    }\n",
              "    40% {\n",
              "      border-color: transparent;\n",
              "      border-right-color: var(--fill-color);\n",
              "      border-top-color: var(--fill-color);\n",
              "    }\n",
              "    60% {\n",
              "      border-color: transparent;\n",
              "      border-right-color: var(--fill-color);\n",
              "    }\n",
              "    80% {\n",
              "      border-color: transparent;\n",
              "      border-right-color: var(--fill-color);\n",
              "      border-bottom-color: var(--fill-color);\n",
              "    }\n",
              "    90% {\n",
              "      border-color: transparent;\n",
              "      border-bottom-color: var(--fill-color);\n",
              "    }\n",
              "  }\n",
              "</style>\n",
              "\n",
              "  <script>\n",
              "    async function quickchart(key) {\n",
              "      const quickchartButtonEl =\n",
              "        document.querySelector('#' + key + ' button');\n",
              "      quickchartButtonEl.disabled = true;  // To prevent multiple clicks.\n",
              "      quickchartButtonEl.classList.add('colab-df-spinner');\n",
              "      try {\n",
              "        const charts = await google.colab.kernel.invokeFunction(\n",
              "            'suggestCharts', [key], {});\n",
              "      } catch (error) {\n",
              "        console.error('Error during call to suggestCharts:', error);\n",
              "      }\n",
              "      quickchartButtonEl.classList.remove('colab-df-spinner');\n",
              "      quickchartButtonEl.classList.add('colab-df-quickchart-complete');\n",
              "    }\n",
              "    (() => {\n",
              "      let quickchartButtonEl =\n",
              "        document.querySelector('#df-18e1c92a-2149-4dfd-a099-14410032826e button');\n",
              "      quickchartButtonEl.style.display =\n",
              "        google.colab.kernel.accessAllowed ? 'block' : 'none';\n",
              "    })();\n",
              "  </script>\n",
              "</div>\n",
              "    </div>\n",
              "  </div>\n"
            ],
            "application/vnd.google.colaboratory.intrinsic+json": {
              "type": "dataframe",
              "summary": "{\n  \"name\": \"diabetes_df\",\n  \"rows\": 5,\n  \"fields\": [\n    {\n      \"column\": \"times_pregnant\",\n      \"properties\": {\n        \"dtype\": \"number\",\n        \"std\": 2,\n        \"min\": 0,\n        \"max\": 5,\n        \"num_unique_values\": 5,\n        \"samples\": [\n          4,\n          5,\n          0\n        ],\n        \"semantic_type\": \"\",\n        \"description\": \"\"\n      }\n    },\n    {\n      \"column\": \"glucose_tolerance_test\",\n      \"properties\": {\n        \"dtype\": \"number\",\n        \"std\": 30,\n        \"min\": 84,\n        \"max\": 165,\n        \"num_unique_values\": 5,\n        \"samples\": [\n          84,\n          139,\n          165\n        ],\n        \"semantic_type\": \"\",\n        \"description\": \"\"\n      }\n    },\n    {\n      \"column\": \"blood_pressure\",\n      \"properties\": {\n        \"dtype\": \"number\",\n        \"std\": 19,\n        \"min\": 50,\n        \"max\": 90,\n        \"num_unique_values\": 4,\n        \"samples\": [\n          90,\n          80,\n          56\n        ],\n        \"semantic_type\": \"\",\n        \"description\": \"\"\n      }\n    },\n    {\n      \"column\": \"skin_thickness\",\n      \"properties\": {\n        \"dtype\": \"number\",\n        \"std\": 6,\n        \"min\": 23,\n        \"max\": 40,\n        \"num_unique_values\": 5,\n        \"samples\": [\n          23,\n          35,\n          33\n        ],\n        \"semantic_type\": \"\",\n        \"description\": \"\"\n      }\n    },\n    {\n      \"column\": \"insulin\",\n      \"properties\": {\n        \"dtype\": \"number\",\n        \"std\": 247,\n        \"min\": 56,\n        \"max\": 680,\n        \"num_unique_values\": 5,\n        \"samples\": [\n          56,\n          160,\n          680\n        ],\n        \"semantic_type\": \"\",\n        \"description\": \"\"\n      }\n    },\n    {\n      \"column\": \"bmi\",\n      \"properties\": {\n        \"dtype\": \"number\",\n        \"std\": 9.315202627962528,\n        \"min\": 29.0,\n        \"max\": 52.3,\n        \"num_unique_values\": 5,\n        \"samples\": [\n          39.5,\n          31.6,\n          52.3\n        ],\n        \"semantic_type\": \"\",\n        \"description\": \"\"\n      }\n    },\n    {\n      \"column\": \"pedigree_function\",\n      \"properties\": {\n        \"dtype\": \"number\",\n        \"std\": 0.29766004098635745,\n        \"min\": 0.159,\n        \"max\": 0.962,\n        \"num_unique_values\": 5,\n        \"samples\": [\n          0.159,\n          0.361,\n          0.427\n        ],\n        \"semantic_type\": \"\",\n        \"description\": \"\"\n      }\n    },\n    {\n      \"column\": \"age\",\n      \"properties\": {\n        \"dtype\": \"number\",\n        \"std\": 2,\n        \"min\": 22,\n        \"max\": 28,\n        \"num_unique_values\": 4,\n        \"samples\": [\n          25,\n          28,\n          22\n        ],\n        \"semantic_type\": \"\",\n        \"description\": \"\"\n      }\n    },\n    {\n      \"column\": \"has_diabetes\",\n      \"properties\": {\n        \"dtype\": \"number\",\n        \"std\": 0,\n        \"min\": 0,\n        \"max\": 1,\n        \"num_unique_values\": 2,\n        \"samples\": [\n          1,\n          0\n        ],\n        \"semantic_type\": \"\",\n        \"description\": \"\"\n      }\n    }\n  ]\n}"
            }
          },
          "metadata": {},
          "execution_count": 5
        }
      ],
      "source": [
        "\n",
        "print(diabetes_df.shape)\n",
        "diabetes_df.sample(5)"
      ]
    },
    {
      "cell_type": "code",
      "execution_count": null,
      "id": "systematic-motorcycle",
      "metadata": {
        "id": "systematic-motorcycle",
        "colab": {
          "base_uri": "https://localhost:8080/"
        },
        "outputId": "32b9aad2-5f51-40d5-cd97-376ef5889e2b"
      },
      "outputs": [
        {
          "output_type": "execute_result",
          "data": {
            "text/plain": [
              "times_pregnant              int64\n",
              "glucose_tolerance_test      int64\n",
              "blood_pressure              int64\n",
              "skin_thickness              int64\n",
              "insulin                     int64\n",
              "bmi                       float64\n",
              "pedigree_function         float64\n",
              "age                         int64\n",
              "has_diabetes                int64\n",
              "dtype: object"
            ]
          },
          "metadata": {},
          "execution_count": 6
        }
      ],
      "source": [
        "diabetes_df.dtypes"
      ]
    },
    {
      "cell_type": "code",
      "execution_count": null,
      "id": "collected-lafayette",
      "metadata": {
        "id": "collected-lafayette"
      },
      "outputs": [],
      "source": [
        "X = diabetes_df.iloc[:, :-1].values\n",
        "y = diabetes_df[\"has_diabetes\"].values"
      ]
    },
    {
      "cell_type": "markdown",
      "id": "acquired-parallel",
      "metadata": {
        "id": "acquired-parallel"
      },
      "source": [
        "Split the data to Train, and Test (75%, 25%)"
      ]
    },
    {
      "cell_type": "code",
      "execution_count": null,
      "id": "rational-hollow",
      "metadata": {
        "id": "rational-hollow"
      },
      "outputs": [],
      "source": [
        "X_train, X_test, y_train, y_test = train_test_split(X, y, test_size=0.25, random_state=11111)"
      ]
    },
    {
      "cell_type": "code",
      "execution_count": null,
      "id": "acceptable-equity",
      "metadata": {
        "id": "acceptable-equity",
        "colab": {
          "base_uri": "https://localhost:8080/"
        },
        "outputId": "b9ce19f5-f195-4e48-e01e-24bcc073460e"
      },
      "outputs": [
        {
          "output_type": "execute_result",
          "data": {
            "text/plain": [
              "(0.3489583333333333, 0.6510416666666666)"
            ]
          },
          "metadata": {},
          "execution_count": 9
        }
      ],
      "source": [
        "np.mean(y), np.mean(1-y)"
      ]
    },
    {
      "cell_type": "markdown",
      "id": "thick-reconstruction",
      "metadata": {
        "id": "thick-reconstruction"
      },
      "source": [
        "Build a single hidden layer neural network using 12 nodes.\n",
        "Use the sequential model with single layer network and input shape to 8.\n",
        "\n"
      ]
    },
    {
      "cell_type": "markdown",
      "id": "dramatic-zealand",
      "metadata": {
        "id": "dramatic-zealand"
      },
      "source": [
        "Normalize the data"
      ]
    },
    {
      "cell_type": "code",
      "execution_count": null,
      "id": "painted-mathematics",
      "metadata": {
        "id": "painted-mathematics"
      },
      "outputs": [],
      "source": [
        "normalizer = StandardScaler()\n",
        "X_train_norm = normalizer.fit_transform(X_train)\n",
        "X_test_norm = normalizer.transform(X_test)"
      ]
    },
    {
      "cell_type": "markdown",
      "id": "previous-electricity",
      "metadata": {
        "id": "previous-electricity"
      },
      "source": [
        "Define the model:\n",
        "* Input size is 8-dimensional\n",
        "* 1 hidden layer, 12 hidden nodes, sigmoid activation\n",
        "* Final layer with one node and sigmoid activation (standard for binary classification)"
      ]
    },
    {
      "cell_type": "code",
      "execution_count": null,
      "id": "found-bowling",
      "metadata": {
        "id": "found-bowling"
      },
      "outputs": [],
      "source": [
        "\n",
        "\n",
        "model  = Sequential([\n",
        "    Dense(12, input_shape=(8,), activation=\"relu\"),\n",
        "    Dense(1, activation=\"sigmoid\")\n",
        "])"
      ]
    },
    {
      "cell_type": "markdown",
      "id": "level-terminal",
      "metadata": {
        "id": "level-terminal"
      },
      "source": [
        "View the model summary"
      ]
    },
    {
      "cell_type": "code",
      "execution_count": null,
      "id": "correct-kingdom",
      "metadata": {
        "id": "correct-kingdom",
        "colab": {
          "base_uri": "https://localhost:8080/"
        },
        "outputId": "0e686d42-553c-468a-d65b-bb71dde06f60"
      },
      "outputs": [
        {
          "output_type": "stream",
          "name": "stdout",
          "text": [
            "Model: \"sequential\"\n",
            "_________________________________________________________________\n",
            " Layer (type)                Output Shape              Param #   \n",
            "=================================================================\n",
            " dense (Dense)               (None, 12)                108       \n",
            "                                                                 \n",
            " dense_1 (Dense)             (None, 1)                 13        \n",
            "                                                                 \n",
            "=================================================================\n",
            "Total params: 121 (484.00 Byte)\n",
            "Trainable params: 121 (484.00 Byte)\n",
            "Non-trainable params: 0 (0.00 Byte)\n",
            "_________________________________________________________________\n"
          ]
        }
      ],
      "source": [
        "\n",
        "model.summary()"
      ]
    },
    {
      "cell_type": "markdown",
      "id": "herbal-anderson",
      "metadata": {
        "id": "herbal-anderson"
      },
      "source": [
        "Train the model\n",
        "* Compile the model with optimizer, loss function and metrics\n",
        "* Use the fit function to return the run history.\n"
      ]
    },
    {
      "cell_type": "code",
      "execution_count": null,
      "id": "happy-prompt",
      "metadata": {
        "id": "happy-prompt",
        "colab": {
          "base_uri": "https://localhost:8080/"
        },
        "outputId": "57c61e5a-86ce-443e-f1e7-17ff1bc61733"
      },
      "outputs": [
        {
          "output_type": "stream",
          "name": "stderr",
          "text": [
            "WARNING:absl:`lr` is deprecated in Keras optimizer, please use `learning_rate` or use the legacy optimizer, e.g.,tf.keras.optimizers.legacy.SGD.\n"
          ]
        },
        {
          "output_type": "stream",
          "name": "stdout",
          "text": [
            "Epoch 1/200\n",
            "18/18 [==============================] - 1s 17ms/step - loss: 0.6663 - accuracy: 0.6562 - val_loss: 0.5998 - val_accuracy: 0.6771\n",
            "Epoch 2/200\n",
            "18/18 [==============================] - 0s 4ms/step - loss: 0.6478 - accuracy: 0.6719 - val_loss: 0.5878 - val_accuracy: 0.7031\n",
            "Epoch 3/200\n",
            "18/18 [==============================] - 0s 4ms/step - loss: 0.6325 - accuracy: 0.6875 - val_loss: 0.5781 - val_accuracy: 0.7135\n",
            "Epoch 4/200\n",
            "18/18 [==============================] - 0s 5ms/step - loss: 0.6199 - accuracy: 0.6979 - val_loss: 0.5701 - val_accuracy: 0.7240\n",
            "Epoch 5/200\n",
            "18/18 [==============================] - 0s 6ms/step - loss: 0.6091 - accuracy: 0.7014 - val_loss: 0.5633 - val_accuracy: 0.7292\n",
            "Epoch 6/200\n",
            "18/18 [==============================] - 0s 4ms/step - loss: 0.5998 - accuracy: 0.6997 - val_loss: 0.5576 - val_accuracy: 0.7500\n",
            "Epoch 7/200\n",
            "18/18 [==============================] - 0s 5ms/step - loss: 0.5918 - accuracy: 0.6997 - val_loss: 0.5525 - val_accuracy: 0.7552\n",
            "Epoch 8/200\n",
            "18/18 [==============================] - 0s 5ms/step - loss: 0.5846 - accuracy: 0.7066 - val_loss: 0.5481 - val_accuracy: 0.7552\n",
            "Epoch 9/200\n",
            "18/18 [==============================] - 0s 4ms/step - loss: 0.5781 - accuracy: 0.7101 - val_loss: 0.5441 - val_accuracy: 0.7656\n",
            "Epoch 10/200\n",
            "18/18 [==============================] - 0s 5ms/step - loss: 0.5724 - accuracy: 0.7083 - val_loss: 0.5406 - val_accuracy: 0.7708\n",
            "Epoch 11/200\n",
            "18/18 [==============================] - 0s 4ms/step - loss: 0.5670 - accuracy: 0.7135 - val_loss: 0.5373 - val_accuracy: 0.7760\n",
            "Epoch 12/200\n",
            "18/18 [==============================] - 0s 4ms/step - loss: 0.5620 - accuracy: 0.7170 - val_loss: 0.5344 - val_accuracy: 0.7708\n",
            "Epoch 13/200\n",
            "18/18 [==============================] - 0s 5ms/step - loss: 0.5574 - accuracy: 0.7101 - val_loss: 0.5316 - val_accuracy: 0.7760\n",
            "Epoch 14/200\n",
            "18/18 [==============================] - 0s 5ms/step - loss: 0.5531 - accuracy: 0.7135 - val_loss: 0.5290 - val_accuracy: 0.7656\n",
            "Epoch 15/200\n",
            "18/18 [==============================] - 0s 5ms/step - loss: 0.5490 - accuracy: 0.7170 - val_loss: 0.5266 - val_accuracy: 0.7708\n",
            "Epoch 16/200\n",
            "18/18 [==============================] - 0s 4ms/step - loss: 0.5452 - accuracy: 0.7292 - val_loss: 0.5243 - val_accuracy: 0.7708\n",
            "Epoch 17/200\n",
            "18/18 [==============================] - 0s 4ms/step - loss: 0.5415 - accuracy: 0.7326 - val_loss: 0.5220 - val_accuracy: 0.7708\n",
            "Epoch 18/200\n",
            "18/18 [==============================] - 0s 5ms/step - loss: 0.5379 - accuracy: 0.7344 - val_loss: 0.5200 - val_accuracy: 0.7656\n",
            "Epoch 19/200\n",
            "18/18 [==============================] - 0s 4ms/step - loss: 0.5346 - accuracy: 0.7378 - val_loss: 0.5180 - val_accuracy: 0.7656\n",
            "Epoch 20/200\n",
            "18/18 [==============================] - 0s 4ms/step - loss: 0.5314 - accuracy: 0.7431 - val_loss: 0.5161 - val_accuracy: 0.7656\n",
            "Epoch 21/200\n",
            "18/18 [==============================] - 0s 4ms/step - loss: 0.5282 - accuracy: 0.7413 - val_loss: 0.5143 - val_accuracy: 0.7656\n",
            "Epoch 22/200\n",
            "18/18 [==============================] - 0s 4ms/step - loss: 0.5251 - accuracy: 0.7431 - val_loss: 0.5126 - val_accuracy: 0.7708\n",
            "Epoch 23/200\n",
            "18/18 [==============================] - 0s 4ms/step - loss: 0.5223 - accuracy: 0.7431 - val_loss: 0.5110 - val_accuracy: 0.7708\n",
            "Epoch 24/200\n",
            "18/18 [==============================] - 0s 5ms/step - loss: 0.5196 - accuracy: 0.7448 - val_loss: 0.5094 - val_accuracy: 0.7656\n",
            "Epoch 25/200\n",
            "18/18 [==============================] - 0s 4ms/step - loss: 0.5169 - accuracy: 0.7500 - val_loss: 0.5079 - val_accuracy: 0.7708\n",
            "Epoch 26/200\n",
            "18/18 [==============================] - 0s 5ms/step - loss: 0.5144 - accuracy: 0.7465 - val_loss: 0.5066 - val_accuracy: 0.7656\n",
            "Epoch 27/200\n",
            "18/18 [==============================] - 0s 4ms/step - loss: 0.5119 - accuracy: 0.7535 - val_loss: 0.5052 - val_accuracy: 0.7708\n",
            "Epoch 28/200\n",
            "18/18 [==============================] - 0s 5ms/step - loss: 0.5094 - accuracy: 0.7517 - val_loss: 0.5039 - val_accuracy: 0.7760\n",
            "Epoch 29/200\n",
            "18/18 [==============================] - 0s 5ms/step - loss: 0.5072 - accuracy: 0.7517 - val_loss: 0.5027 - val_accuracy: 0.7760\n",
            "Epoch 30/200\n",
            "18/18 [==============================] - 0s 4ms/step - loss: 0.5050 - accuracy: 0.7517 - val_loss: 0.5016 - val_accuracy: 0.7865\n",
            "Epoch 31/200\n",
            "18/18 [==============================] - 0s 4ms/step - loss: 0.5028 - accuracy: 0.7517 - val_loss: 0.5006 - val_accuracy: 0.7865\n",
            "Epoch 32/200\n",
            "18/18 [==============================] - 0s 4ms/step - loss: 0.5007 - accuracy: 0.7569 - val_loss: 0.4995 - val_accuracy: 0.7917\n",
            "Epoch 33/200\n",
            "18/18 [==============================] - 0s 4ms/step - loss: 0.4986 - accuracy: 0.7587 - val_loss: 0.4986 - val_accuracy: 0.7969\n",
            "Epoch 34/200\n",
            "18/18 [==============================] - 0s 4ms/step - loss: 0.4968 - accuracy: 0.7569 - val_loss: 0.4977 - val_accuracy: 0.7865\n",
            "Epoch 35/200\n",
            "18/18 [==============================] - 0s 4ms/step - loss: 0.4948 - accuracy: 0.7569 - val_loss: 0.4968 - val_accuracy: 0.7812\n",
            "Epoch 36/200\n",
            "18/18 [==============================] - 0s 4ms/step - loss: 0.4930 - accuracy: 0.7569 - val_loss: 0.4960 - val_accuracy: 0.7812\n",
            "Epoch 37/200\n",
            "18/18 [==============================] - 0s 4ms/step - loss: 0.4912 - accuracy: 0.7587 - val_loss: 0.4953 - val_accuracy: 0.7865\n",
            "Epoch 38/200\n",
            "18/18 [==============================] - 0s 4ms/step - loss: 0.4895 - accuracy: 0.7587 - val_loss: 0.4946 - val_accuracy: 0.7865\n",
            "Epoch 39/200\n",
            "18/18 [==============================] - 0s 5ms/step - loss: 0.4880 - accuracy: 0.7604 - val_loss: 0.4939 - val_accuracy: 0.7865\n",
            "Epoch 40/200\n",
            "18/18 [==============================] - 0s 4ms/step - loss: 0.4864 - accuracy: 0.7622 - val_loss: 0.4932 - val_accuracy: 0.7865\n",
            "Epoch 41/200\n",
            "18/18 [==============================] - 0s 4ms/step - loss: 0.4849 - accuracy: 0.7622 - val_loss: 0.4927 - val_accuracy: 0.7865\n",
            "Epoch 42/200\n",
            "18/18 [==============================] - 0s 4ms/step - loss: 0.4834 - accuracy: 0.7622 - val_loss: 0.4921 - val_accuracy: 0.7865\n",
            "Epoch 43/200\n",
            "18/18 [==============================] - 0s 4ms/step - loss: 0.4821 - accuracy: 0.7622 - val_loss: 0.4916 - val_accuracy: 0.7865\n",
            "Epoch 44/200\n",
            "18/18 [==============================] - 0s 4ms/step - loss: 0.4808 - accuracy: 0.7639 - val_loss: 0.4912 - val_accuracy: 0.7917\n",
            "Epoch 45/200\n",
            "18/18 [==============================] - 0s 4ms/step - loss: 0.4796 - accuracy: 0.7639 - val_loss: 0.4908 - val_accuracy: 0.7917\n",
            "Epoch 46/200\n",
            "18/18 [==============================] - 0s 4ms/step - loss: 0.4783 - accuracy: 0.7622 - val_loss: 0.4904 - val_accuracy: 0.7917\n",
            "Epoch 47/200\n",
            "18/18 [==============================] - 0s 4ms/step - loss: 0.4771 - accuracy: 0.7622 - val_loss: 0.4900 - val_accuracy: 0.7917\n",
            "Epoch 48/200\n",
            "18/18 [==============================] - 0s 4ms/step - loss: 0.4759 - accuracy: 0.7622 - val_loss: 0.4897 - val_accuracy: 0.7865\n",
            "Epoch 49/200\n",
            "18/18 [==============================] - 0s 5ms/step - loss: 0.4748 - accuracy: 0.7604 - val_loss: 0.4894 - val_accuracy: 0.7865\n",
            "Epoch 50/200\n",
            "18/18 [==============================] - 0s 4ms/step - loss: 0.4738 - accuracy: 0.7622 - val_loss: 0.4891 - val_accuracy: 0.7865\n",
            "Epoch 51/200\n",
            "18/18 [==============================] - 0s 6ms/step - loss: 0.4727 - accuracy: 0.7622 - val_loss: 0.4889 - val_accuracy: 0.7865\n",
            "Epoch 52/200\n",
            "18/18 [==============================] - 0s 6ms/step - loss: 0.4718 - accuracy: 0.7622 - val_loss: 0.4887 - val_accuracy: 0.7865\n",
            "Epoch 53/200\n",
            "18/18 [==============================] - 0s 7ms/step - loss: 0.4708 - accuracy: 0.7622 - val_loss: 0.4885 - val_accuracy: 0.7865\n",
            "Epoch 54/200\n",
            "18/18 [==============================] - 0s 7ms/step - loss: 0.4699 - accuracy: 0.7622 - val_loss: 0.4884 - val_accuracy: 0.7865\n",
            "Epoch 55/200\n",
            "18/18 [==============================] - 0s 7ms/step - loss: 0.4690 - accuracy: 0.7639 - val_loss: 0.4882 - val_accuracy: 0.7865\n",
            "Epoch 56/200\n",
            "18/18 [==============================] - 0s 5ms/step - loss: 0.4681 - accuracy: 0.7622 - val_loss: 0.4881 - val_accuracy: 0.7865\n",
            "Epoch 57/200\n",
            "18/18 [==============================] - 0s 5ms/step - loss: 0.4674 - accuracy: 0.7604 - val_loss: 0.4880 - val_accuracy: 0.7865\n",
            "Epoch 58/200\n",
            "18/18 [==============================] - 0s 5ms/step - loss: 0.4665 - accuracy: 0.7604 - val_loss: 0.4879 - val_accuracy: 0.7812\n",
            "Epoch 59/200\n",
            "18/18 [==============================] - 0s 6ms/step - loss: 0.4657 - accuracy: 0.7622 - val_loss: 0.4878 - val_accuracy: 0.7760\n",
            "Epoch 60/200\n",
            "18/18 [==============================] - 0s 5ms/step - loss: 0.4649 - accuracy: 0.7622 - val_loss: 0.4877 - val_accuracy: 0.7708\n",
            "Epoch 61/200\n",
            "18/18 [==============================] - 0s 6ms/step - loss: 0.4643 - accuracy: 0.7604 - val_loss: 0.4876 - val_accuracy: 0.7708\n",
            "Epoch 62/200\n",
            "18/18 [==============================] - 0s 5ms/step - loss: 0.4635 - accuracy: 0.7587 - val_loss: 0.4876 - val_accuracy: 0.7708\n",
            "Epoch 63/200\n",
            "18/18 [==============================] - 0s 5ms/step - loss: 0.4630 - accuracy: 0.7622 - val_loss: 0.4875 - val_accuracy: 0.7708\n",
            "Epoch 64/200\n",
            "18/18 [==============================] - 0s 5ms/step - loss: 0.4622 - accuracy: 0.7604 - val_loss: 0.4875 - val_accuracy: 0.7708\n",
            "Epoch 65/200\n",
            "18/18 [==============================] - 0s 5ms/step - loss: 0.4616 - accuracy: 0.7604 - val_loss: 0.4875 - val_accuracy: 0.7708\n",
            "Epoch 66/200\n",
            "18/18 [==============================] - 0s 5ms/step - loss: 0.4609 - accuracy: 0.7604 - val_loss: 0.4875 - val_accuracy: 0.7708\n",
            "Epoch 67/200\n",
            "18/18 [==============================] - 0s 7ms/step - loss: 0.4604 - accuracy: 0.7604 - val_loss: 0.4875 - val_accuracy: 0.7708\n",
            "Epoch 68/200\n",
            "18/18 [==============================] - 0s 5ms/step - loss: 0.4599 - accuracy: 0.7639 - val_loss: 0.4875 - val_accuracy: 0.7708\n",
            "Epoch 69/200\n",
            "18/18 [==============================] - 0s 5ms/step - loss: 0.4592 - accuracy: 0.7622 - val_loss: 0.4875 - val_accuracy: 0.7708\n",
            "Epoch 70/200\n",
            "18/18 [==============================] - 0s 6ms/step - loss: 0.4587 - accuracy: 0.7622 - val_loss: 0.4875 - val_accuracy: 0.7708\n",
            "Epoch 71/200\n",
            "18/18 [==============================] - 0s 7ms/step - loss: 0.4581 - accuracy: 0.7639 - val_loss: 0.4875 - val_accuracy: 0.7708\n",
            "Epoch 72/200\n",
            "18/18 [==============================] - 0s 5ms/step - loss: 0.4576 - accuracy: 0.7656 - val_loss: 0.4875 - val_accuracy: 0.7708\n",
            "Epoch 73/200\n",
            "18/18 [==============================] - 0s 5ms/step - loss: 0.4571 - accuracy: 0.7674 - val_loss: 0.4876 - val_accuracy: 0.7708\n",
            "Epoch 74/200\n",
            "18/18 [==============================] - 0s 5ms/step - loss: 0.4568 - accuracy: 0.7656 - val_loss: 0.4877 - val_accuracy: 0.7708\n",
            "Epoch 75/200\n",
            "18/18 [==============================] - 0s 6ms/step - loss: 0.4563 - accuracy: 0.7656 - val_loss: 0.4878 - val_accuracy: 0.7708\n",
            "Epoch 76/200\n",
            "18/18 [==============================] - 0s 6ms/step - loss: 0.4559 - accuracy: 0.7656 - val_loss: 0.4878 - val_accuracy: 0.7708\n",
            "Epoch 77/200\n",
            "18/18 [==============================] - 0s 6ms/step - loss: 0.4554 - accuracy: 0.7656 - val_loss: 0.4879 - val_accuracy: 0.7708\n",
            "Epoch 78/200\n",
            "18/18 [==============================] - 0s 7ms/step - loss: 0.4550 - accuracy: 0.7656 - val_loss: 0.4880 - val_accuracy: 0.7708\n",
            "Epoch 79/200\n",
            "18/18 [==============================] - 0s 6ms/step - loss: 0.4546 - accuracy: 0.7656 - val_loss: 0.4880 - val_accuracy: 0.7760\n",
            "Epoch 80/200\n",
            "18/18 [==============================] - 0s 8ms/step - loss: 0.4540 - accuracy: 0.7656 - val_loss: 0.4882 - val_accuracy: 0.7760\n",
            "Epoch 81/200\n",
            "18/18 [==============================] - 0s 6ms/step - loss: 0.4537 - accuracy: 0.7656 - val_loss: 0.4882 - val_accuracy: 0.7760\n",
            "Epoch 82/200\n",
            "18/18 [==============================] - 0s 7ms/step - loss: 0.4533 - accuracy: 0.7656 - val_loss: 0.4884 - val_accuracy: 0.7760\n",
            "Epoch 83/200\n",
            "18/18 [==============================] - 0s 7ms/step - loss: 0.4530 - accuracy: 0.7656 - val_loss: 0.4884 - val_accuracy: 0.7760\n",
            "Epoch 84/200\n",
            "18/18 [==============================] - 0s 7ms/step - loss: 0.4526 - accuracy: 0.7639 - val_loss: 0.4885 - val_accuracy: 0.7760\n",
            "Epoch 85/200\n",
            "18/18 [==============================] - 0s 7ms/step - loss: 0.4522 - accuracy: 0.7656 - val_loss: 0.4886 - val_accuracy: 0.7760\n",
            "Epoch 86/200\n",
            "18/18 [==============================] - 0s 7ms/step - loss: 0.4520 - accuracy: 0.7622 - val_loss: 0.4888 - val_accuracy: 0.7760\n",
            "Epoch 87/200\n",
            "18/18 [==============================] - 0s 5ms/step - loss: 0.4516 - accuracy: 0.7639 - val_loss: 0.4889 - val_accuracy: 0.7760\n",
            "Epoch 88/200\n",
            "18/18 [==============================] - 0s 4ms/step - loss: 0.4512 - accuracy: 0.7674 - val_loss: 0.4890 - val_accuracy: 0.7760\n",
            "Epoch 89/200\n",
            "18/18 [==============================] - 0s 4ms/step - loss: 0.4509 - accuracy: 0.7639 - val_loss: 0.4891 - val_accuracy: 0.7760\n",
            "Epoch 90/200\n",
            "18/18 [==============================] - 0s 4ms/step - loss: 0.4507 - accuracy: 0.7622 - val_loss: 0.4893 - val_accuracy: 0.7760\n",
            "Epoch 91/200\n",
            "18/18 [==============================] - 0s 4ms/step - loss: 0.4504 - accuracy: 0.7639 - val_loss: 0.4894 - val_accuracy: 0.7760\n",
            "Epoch 92/200\n",
            "18/18 [==============================] - 0s 4ms/step - loss: 0.4500 - accuracy: 0.7622 - val_loss: 0.4894 - val_accuracy: 0.7708\n",
            "Epoch 93/200\n",
            "18/18 [==============================] - 0s 4ms/step - loss: 0.4499 - accuracy: 0.7604 - val_loss: 0.4896 - val_accuracy: 0.7708\n",
            "Epoch 94/200\n",
            "18/18 [==============================] - 0s 4ms/step - loss: 0.4496 - accuracy: 0.7622 - val_loss: 0.4897 - val_accuracy: 0.7708\n",
            "Epoch 95/200\n",
            "18/18 [==============================] - 0s 4ms/step - loss: 0.4493 - accuracy: 0.7604 - val_loss: 0.4898 - val_accuracy: 0.7656\n",
            "Epoch 96/200\n",
            "18/18 [==============================] - 0s 4ms/step - loss: 0.4490 - accuracy: 0.7604 - val_loss: 0.4899 - val_accuracy: 0.7656\n",
            "Epoch 97/200\n",
            "18/18 [==============================] - 0s 5ms/step - loss: 0.4489 - accuracy: 0.7622 - val_loss: 0.4900 - val_accuracy: 0.7656\n",
            "Epoch 98/200\n",
            "18/18 [==============================] - 0s 5ms/step - loss: 0.4486 - accuracy: 0.7604 - val_loss: 0.4901 - val_accuracy: 0.7656\n",
            "Epoch 99/200\n",
            "18/18 [==============================] - 0s 4ms/step - loss: 0.4484 - accuracy: 0.7622 - val_loss: 0.4903 - val_accuracy: 0.7656\n",
            "Epoch 100/200\n",
            "18/18 [==============================] - 0s 4ms/step - loss: 0.4481 - accuracy: 0.7604 - val_loss: 0.4903 - val_accuracy: 0.7656\n",
            "Epoch 101/200\n",
            "18/18 [==============================] - 0s 4ms/step - loss: 0.4478 - accuracy: 0.7587 - val_loss: 0.4905 - val_accuracy: 0.7604\n",
            "Epoch 102/200\n",
            "18/18 [==============================] - 0s 4ms/step - loss: 0.4477 - accuracy: 0.7569 - val_loss: 0.4906 - val_accuracy: 0.7604\n",
            "Epoch 103/200\n",
            "18/18 [==============================] - 0s 4ms/step - loss: 0.4474 - accuracy: 0.7587 - val_loss: 0.4907 - val_accuracy: 0.7604\n",
            "Epoch 104/200\n",
            "18/18 [==============================] - 0s 4ms/step - loss: 0.4472 - accuracy: 0.7622 - val_loss: 0.4908 - val_accuracy: 0.7604\n",
            "Epoch 105/200\n",
            "18/18 [==============================] - 0s 4ms/step - loss: 0.4471 - accuracy: 0.7587 - val_loss: 0.4909 - val_accuracy: 0.7604\n",
            "Epoch 106/200\n",
            "18/18 [==============================] - 0s 5ms/step - loss: 0.4467 - accuracy: 0.7604 - val_loss: 0.4910 - val_accuracy: 0.7604\n",
            "Epoch 107/200\n",
            "18/18 [==============================] - 0s 4ms/step - loss: 0.4466 - accuracy: 0.7622 - val_loss: 0.4912 - val_accuracy: 0.7604\n",
            "Epoch 108/200\n",
            "18/18 [==============================] - 0s 5ms/step - loss: 0.4464 - accuracy: 0.7622 - val_loss: 0.4913 - val_accuracy: 0.7604\n",
            "Epoch 109/200\n",
            "18/18 [==============================] - 0s 4ms/step - loss: 0.4462 - accuracy: 0.7639 - val_loss: 0.4914 - val_accuracy: 0.7604\n",
            "Epoch 110/200\n",
            "18/18 [==============================] - 0s 4ms/step - loss: 0.4460 - accuracy: 0.7622 - val_loss: 0.4915 - val_accuracy: 0.7604\n",
            "Epoch 111/200\n",
            "18/18 [==============================] - 0s 4ms/step - loss: 0.4458 - accuracy: 0.7622 - val_loss: 0.4916 - val_accuracy: 0.7552\n",
            "Epoch 112/200\n",
            "18/18 [==============================] - 0s 4ms/step - loss: 0.4457 - accuracy: 0.7622 - val_loss: 0.4917 - val_accuracy: 0.7552\n",
            "Epoch 113/200\n",
            "18/18 [==============================] - 0s 4ms/step - loss: 0.4454 - accuracy: 0.7639 - val_loss: 0.4918 - val_accuracy: 0.7552\n",
            "Epoch 114/200\n",
            "18/18 [==============================] - 0s 5ms/step - loss: 0.4452 - accuracy: 0.7639 - val_loss: 0.4919 - val_accuracy: 0.7552\n",
            "Epoch 115/200\n",
            "18/18 [==============================] - 0s 5ms/step - loss: 0.4451 - accuracy: 0.7639 - val_loss: 0.4921 - val_accuracy: 0.7552\n",
            "Epoch 116/200\n",
            "18/18 [==============================] - 0s 4ms/step - loss: 0.4449 - accuracy: 0.7639 - val_loss: 0.4921 - val_accuracy: 0.7552\n",
            "Epoch 117/200\n",
            "18/18 [==============================] - 0s 5ms/step - loss: 0.4447 - accuracy: 0.7639 - val_loss: 0.4922 - val_accuracy: 0.7552\n",
            "Epoch 118/200\n",
            "18/18 [==============================] - 0s 5ms/step - loss: 0.4445 - accuracy: 0.7674 - val_loss: 0.4923 - val_accuracy: 0.7552\n",
            "Epoch 119/200\n",
            "18/18 [==============================] - 0s 5ms/step - loss: 0.4444 - accuracy: 0.7639 - val_loss: 0.4924 - val_accuracy: 0.7552\n",
            "Epoch 120/200\n",
            "18/18 [==============================] - 0s 5ms/step - loss: 0.4441 - accuracy: 0.7656 - val_loss: 0.4925 - val_accuracy: 0.7552\n",
            "Epoch 121/200\n",
            "18/18 [==============================] - 0s 4ms/step - loss: 0.4440 - accuracy: 0.7639 - val_loss: 0.4926 - val_accuracy: 0.7552\n",
            "Epoch 122/200\n",
            "18/18 [==============================] - 0s 4ms/step - loss: 0.4438 - accuracy: 0.7656 - val_loss: 0.4928 - val_accuracy: 0.7552\n",
            "Epoch 123/200\n",
            "18/18 [==============================] - 0s 4ms/step - loss: 0.4438 - accuracy: 0.7674 - val_loss: 0.4929 - val_accuracy: 0.7604\n",
            "Epoch 124/200\n",
            "18/18 [==============================] - 0s 5ms/step - loss: 0.4435 - accuracy: 0.7656 - val_loss: 0.4930 - val_accuracy: 0.7604\n",
            "Epoch 125/200\n",
            "18/18 [==============================] - 0s 4ms/step - loss: 0.4433 - accuracy: 0.7674 - val_loss: 0.4931 - val_accuracy: 0.7604\n",
            "Epoch 126/200\n",
            "18/18 [==============================] - 0s 5ms/step - loss: 0.4433 - accuracy: 0.7691 - val_loss: 0.4932 - val_accuracy: 0.7604\n",
            "Epoch 127/200\n",
            "18/18 [==============================] - 0s 4ms/step - loss: 0.4431 - accuracy: 0.7691 - val_loss: 0.4933 - val_accuracy: 0.7604\n",
            "Epoch 128/200\n",
            "18/18 [==============================] - 0s 4ms/step - loss: 0.4430 - accuracy: 0.7674 - val_loss: 0.4934 - val_accuracy: 0.7604\n",
            "Epoch 129/200\n",
            "18/18 [==============================] - 0s 5ms/step - loss: 0.4428 - accuracy: 0.7708 - val_loss: 0.4934 - val_accuracy: 0.7604\n",
            "Epoch 130/200\n",
            "18/18 [==============================] - 0s 4ms/step - loss: 0.4427 - accuracy: 0.7674 - val_loss: 0.4935 - val_accuracy: 0.7604\n",
            "Epoch 131/200\n",
            "18/18 [==============================] - 0s 4ms/step - loss: 0.4425 - accuracy: 0.7691 - val_loss: 0.4936 - val_accuracy: 0.7604\n",
            "Epoch 132/200\n",
            "18/18 [==============================] - 0s 4ms/step - loss: 0.4423 - accuracy: 0.7674 - val_loss: 0.4938 - val_accuracy: 0.7604\n",
            "Epoch 133/200\n",
            "18/18 [==============================] - 0s 5ms/step - loss: 0.4422 - accuracy: 0.7674 - val_loss: 0.4939 - val_accuracy: 0.7604\n",
            "Epoch 134/200\n",
            "18/18 [==============================] - 0s 5ms/step - loss: 0.4421 - accuracy: 0.7691 - val_loss: 0.4940 - val_accuracy: 0.7604\n",
            "Epoch 135/200\n",
            "18/18 [==============================] - 0s 5ms/step - loss: 0.4419 - accuracy: 0.7726 - val_loss: 0.4940 - val_accuracy: 0.7604\n",
            "Epoch 136/200\n",
            "18/18 [==============================] - 0s 4ms/step - loss: 0.4418 - accuracy: 0.7726 - val_loss: 0.4941 - val_accuracy: 0.7604\n",
            "Epoch 137/200\n",
            "18/18 [==============================] - 0s 5ms/step - loss: 0.4415 - accuracy: 0.7708 - val_loss: 0.4942 - val_accuracy: 0.7604\n",
            "Epoch 138/200\n",
            "18/18 [==============================] - 0s 4ms/step - loss: 0.4414 - accuracy: 0.7708 - val_loss: 0.4943 - val_accuracy: 0.7604\n",
            "Epoch 139/200\n",
            "18/18 [==============================] - 0s 4ms/step - loss: 0.4414 - accuracy: 0.7743 - val_loss: 0.4944 - val_accuracy: 0.7604\n",
            "Epoch 140/200\n",
            "18/18 [==============================] - 0s 5ms/step - loss: 0.4412 - accuracy: 0.7726 - val_loss: 0.4945 - val_accuracy: 0.7604\n",
            "Epoch 141/200\n",
            "18/18 [==============================] - 0s 4ms/step - loss: 0.4410 - accuracy: 0.7726 - val_loss: 0.4945 - val_accuracy: 0.7604\n",
            "Epoch 142/200\n",
            "18/18 [==============================] - 0s 4ms/step - loss: 0.4409 - accuracy: 0.7743 - val_loss: 0.4946 - val_accuracy: 0.7552\n",
            "Epoch 143/200\n",
            "18/18 [==============================] - 0s 5ms/step - loss: 0.4408 - accuracy: 0.7743 - val_loss: 0.4947 - val_accuracy: 0.7552\n",
            "Epoch 144/200\n",
            "18/18 [==============================] - 0s 5ms/step - loss: 0.4406 - accuracy: 0.7743 - val_loss: 0.4948 - val_accuracy: 0.7552\n",
            "Epoch 145/200\n",
            "18/18 [==============================] - 0s 4ms/step - loss: 0.4406 - accuracy: 0.7743 - val_loss: 0.4949 - val_accuracy: 0.7552\n",
            "Epoch 146/200\n",
            "18/18 [==============================] - 0s 4ms/step - loss: 0.4403 - accuracy: 0.7726 - val_loss: 0.4950 - val_accuracy: 0.7552\n",
            "Epoch 147/200\n",
            "18/18 [==============================] - 0s 4ms/step - loss: 0.4402 - accuracy: 0.7743 - val_loss: 0.4951 - val_accuracy: 0.7552\n",
            "Epoch 148/200\n",
            "18/18 [==============================] - 0s 4ms/step - loss: 0.4401 - accuracy: 0.7743 - val_loss: 0.4952 - val_accuracy: 0.7552\n",
            "Epoch 149/200\n",
            "18/18 [==============================] - 0s 4ms/step - loss: 0.4399 - accuracy: 0.7726 - val_loss: 0.4952 - val_accuracy: 0.7552\n",
            "Epoch 150/200\n",
            "18/18 [==============================] - 0s 5ms/step - loss: 0.4397 - accuracy: 0.7743 - val_loss: 0.4953 - val_accuracy: 0.7552\n",
            "Epoch 151/200\n",
            "18/18 [==============================] - 0s 4ms/step - loss: 0.4398 - accuracy: 0.7708 - val_loss: 0.4954 - val_accuracy: 0.7552\n",
            "Epoch 152/200\n",
            "18/18 [==============================] - 0s 4ms/step - loss: 0.4395 - accuracy: 0.7726 - val_loss: 0.4955 - val_accuracy: 0.7552\n",
            "Epoch 153/200\n",
            "18/18 [==============================] - 0s 5ms/step - loss: 0.4394 - accuracy: 0.7708 - val_loss: 0.4956 - val_accuracy: 0.7552\n",
            "Epoch 154/200\n",
            "18/18 [==============================] - 0s 5ms/step - loss: 0.4393 - accuracy: 0.7760 - val_loss: 0.4957 - val_accuracy: 0.7500\n",
            "Epoch 155/200\n",
            "18/18 [==============================] - 0s 4ms/step - loss: 0.4391 - accuracy: 0.7726 - val_loss: 0.4957 - val_accuracy: 0.7500\n",
            "Epoch 156/200\n",
            "18/18 [==============================] - 0s 5ms/step - loss: 0.4390 - accuracy: 0.7708 - val_loss: 0.4959 - val_accuracy: 0.7500\n",
            "Epoch 157/200\n",
            "18/18 [==============================] - 0s 5ms/step - loss: 0.4389 - accuracy: 0.7726 - val_loss: 0.4959 - val_accuracy: 0.7500\n",
            "Epoch 158/200\n",
            "18/18 [==============================] - 0s 4ms/step - loss: 0.4388 - accuracy: 0.7726 - val_loss: 0.4960 - val_accuracy: 0.7500\n",
            "Epoch 159/200\n",
            "18/18 [==============================] - 0s 5ms/step - loss: 0.4386 - accuracy: 0.7708 - val_loss: 0.4961 - val_accuracy: 0.7500\n",
            "Epoch 160/200\n",
            "18/18 [==============================] - 0s 5ms/step - loss: 0.4384 - accuracy: 0.7726 - val_loss: 0.4961 - val_accuracy: 0.7500\n",
            "Epoch 161/200\n",
            "18/18 [==============================] - 0s 5ms/step - loss: 0.4384 - accuracy: 0.7743 - val_loss: 0.4962 - val_accuracy: 0.7500\n",
            "Epoch 162/200\n",
            "18/18 [==============================] - 0s 6ms/step - loss: 0.4382 - accuracy: 0.7708 - val_loss: 0.4963 - val_accuracy: 0.7500\n",
            "Epoch 163/200\n",
            "18/18 [==============================] - 0s 4ms/step - loss: 0.4381 - accuracy: 0.7726 - val_loss: 0.4963 - val_accuracy: 0.7500\n",
            "Epoch 164/200\n",
            "18/18 [==============================] - 0s 4ms/step - loss: 0.4379 - accuracy: 0.7726 - val_loss: 0.4963 - val_accuracy: 0.7500\n",
            "Epoch 165/200\n",
            "18/18 [==============================] - 0s 4ms/step - loss: 0.4379 - accuracy: 0.7708 - val_loss: 0.4964 - val_accuracy: 0.7500\n",
            "Epoch 166/200\n",
            "18/18 [==============================] - 0s 4ms/step - loss: 0.4377 - accuracy: 0.7708 - val_loss: 0.4965 - val_accuracy: 0.7500\n",
            "Epoch 167/200\n",
            "18/18 [==============================] - 0s 4ms/step - loss: 0.4376 - accuracy: 0.7708 - val_loss: 0.4966 - val_accuracy: 0.7500\n",
            "Epoch 168/200\n",
            "18/18 [==============================] - 0s 4ms/step - loss: 0.4374 - accuracy: 0.7708 - val_loss: 0.4966 - val_accuracy: 0.7500\n",
            "Epoch 169/200\n",
            "18/18 [==============================] - 0s 4ms/step - loss: 0.4373 - accuracy: 0.7708 - val_loss: 0.4967 - val_accuracy: 0.7500\n",
            "Epoch 170/200\n",
            "18/18 [==============================] - 0s 5ms/step - loss: 0.4372 - accuracy: 0.7726 - val_loss: 0.4967 - val_accuracy: 0.7500\n",
            "Epoch 171/200\n",
            "18/18 [==============================] - 0s 4ms/step - loss: 0.4370 - accuracy: 0.7726 - val_loss: 0.4967 - val_accuracy: 0.7500\n",
            "Epoch 172/200\n",
            "18/18 [==============================] - 0s 4ms/step - loss: 0.4370 - accuracy: 0.7674 - val_loss: 0.4968 - val_accuracy: 0.7500\n",
            "Epoch 173/200\n",
            "18/18 [==============================] - 0s 4ms/step - loss: 0.4369 - accuracy: 0.7726 - val_loss: 0.4969 - val_accuracy: 0.7500\n",
            "Epoch 174/200\n",
            "18/18 [==============================] - 0s 5ms/step - loss: 0.4367 - accuracy: 0.7691 - val_loss: 0.4969 - val_accuracy: 0.7500\n",
            "Epoch 175/200\n",
            "18/18 [==============================] - 0s 5ms/step - loss: 0.4366 - accuracy: 0.7726 - val_loss: 0.4970 - val_accuracy: 0.7500\n",
            "Epoch 176/200\n",
            "18/18 [==============================] - 0s 5ms/step - loss: 0.4365 - accuracy: 0.7708 - val_loss: 0.4971 - val_accuracy: 0.7500\n",
            "Epoch 177/200\n",
            "18/18 [==============================] - 0s 4ms/step - loss: 0.4364 - accuracy: 0.7708 - val_loss: 0.4971 - val_accuracy: 0.7500\n",
            "Epoch 178/200\n",
            "18/18 [==============================] - 0s 4ms/step - loss: 0.4362 - accuracy: 0.7708 - val_loss: 0.4972 - val_accuracy: 0.7500\n",
            "Epoch 179/200\n",
            "18/18 [==============================] - 0s 4ms/step - loss: 0.4361 - accuracy: 0.7708 - val_loss: 0.4972 - val_accuracy: 0.7500\n",
            "Epoch 180/200\n",
            "18/18 [==============================] - 0s 4ms/step - loss: 0.4361 - accuracy: 0.7708 - val_loss: 0.4973 - val_accuracy: 0.7500\n",
            "Epoch 181/200\n",
            "18/18 [==============================] - 0s 5ms/step - loss: 0.4359 - accuracy: 0.7726 - val_loss: 0.4974 - val_accuracy: 0.7500\n",
            "Epoch 182/200\n",
            "18/18 [==============================] - 0s 5ms/step - loss: 0.4359 - accuracy: 0.7708 - val_loss: 0.4974 - val_accuracy: 0.7500\n",
            "Epoch 183/200\n",
            "18/18 [==============================] - 0s 4ms/step - loss: 0.4357 - accuracy: 0.7708 - val_loss: 0.4975 - val_accuracy: 0.7500\n",
            "Epoch 184/200\n",
            "18/18 [==============================] - 0s 4ms/step - loss: 0.4356 - accuracy: 0.7708 - val_loss: 0.4975 - val_accuracy: 0.7500\n",
            "Epoch 185/200\n",
            "18/18 [==============================] - 0s 4ms/step - loss: 0.4356 - accuracy: 0.7708 - val_loss: 0.4976 - val_accuracy: 0.7500\n",
            "Epoch 186/200\n",
            "18/18 [==============================] - 0s 5ms/step - loss: 0.4354 - accuracy: 0.7708 - val_loss: 0.4976 - val_accuracy: 0.7500\n",
            "Epoch 187/200\n",
            "18/18 [==============================] - 0s 5ms/step - loss: 0.4353 - accuracy: 0.7708 - val_loss: 0.4977 - val_accuracy: 0.7500\n",
            "Epoch 188/200\n",
            "18/18 [==============================] - 0s 4ms/step - loss: 0.4352 - accuracy: 0.7743 - val_loss: 0.4978 - val_accuracy: 0.7500\n",
            "Epoch 189/200\n",
            "18/18 [==============================] - 0s 5ms/step - loss: 0.4351 - accuracy: 0.7708 - val_loss: 0.4978 - val_accuracy: 0.7500\n",
            "Epoch 190/200\n",
            "18/18 [==============================] - 0s 4ms/step - loss: 0.4350 - accuracy: 0.7708 - val_loss: 0.4978 - val_accuracy: 0.7500\n",
            "Epoch 191/200\n",
            "18/18 [==============================] - 0s 4ms/step - loss: 0.4349 - accuracy: 0.7743 - val_loss: 0.4979 - val_accuracy: 0.7500\n",
            "Epoch 192/200\n",
            "18/18 [==============================] - 0s 4ms/step - loss: 0.4348 - accuracy: 0.7708 - val_loss: 0.4979 - val_accuracy: 0.7500\n",
            "Epoch 193/200\n",
            "18/18 [==============================] - 0s 4ms/step - loss: 0.4347 - accuracy: 0.7708 - val_loss: 0.4980 - val_accuracy: 0.7500\n",
            "Epoch 194/200\n",
            "18/18 [==============================] - 0s 4ms/step - loss: 0.4346 - accuracy: 0.7726 - val_loss: 0.4980 - val_accuracy: 0.7500\n",
            "Epoch 195/200\n",
            "18/18 [==============================] - 0s 4ms/step - loss: 0.4345 - accuracy: 0.7726 - val_loss: 0.4981 - val_accuracy: 0.7500\n",
            "Epoch 196/200\n",
            "18/18 [==============================] - 0s 5ms/step - loss: 0.4344 - accuracy: 0.7726 - val_loss: 0.4981 - val_accuracy: 0.7500\n",
            "Epoch 197/200\n",
            "18/18 [==============================] - 0s 5ms/step - loss: 0.4343 - accuracy: 0.7743 - val_loss: 0.4982 - val_accuracy: 0.7500\n",
            "Epoch 198/200\n",
            "18/18 [==============================] - 0s 5ms/step - loss: 0.4341 - accuracy: 0.7726 - val_loss: 0.4983 - val_accuracy: 0.7500\n",
            "Epoch 199/200\n",
            "18/18 [==============================] - 0s 4ms/step - loss: 0.4341 - accuracy: 0.7726 - val_loss: 0.4983 - val_accuracy: 0.7500\n",
            "Epoch 200/200\n",
            "18/18 [==============================] - 0s 4ms/step - loss: 0.4340 - accuracy: 0.7726 - val_loss: 0.4984 - val_accuracy: 0.7500\n"
          ]
        }
      ],
      "source": [
        "\n",
        "model.compile(SGD(lr = .003), \"binary_crossentropy\", metrics=[\"accuracy\"])\n",
        "run_hist_1 = model.fit(X_train_norm, y_train, validation_data=(X_test_norm, y_test), epochs=200)\n"
      ]
    },
    {
      "cell_type": "code",
      "execution_count": null,
      "id": "unsigned-nevada",
      "metadata": {
        "id": "unsigned-nevada",
        "colab": {
          "base_uri": "https://localhost:8080/"
        },
        "outputId": "799a3614-c06f-4199-e1be-65650463c4a3"
      },
      "outputs": [
        {
          "output_type": "stream",
          "name": "stdout",
          "text": [
            "6/6 [==============================] - 0s 3ms/step\n"
          ]
        }
      ],
      "source": [
        "## Like we did for the Random Forest, we generate two kinds of predictions\n",
        "#  One is a hard decision, the other is a probabilitistic score.\n",
        "\n",
        "y_pred_prob_nn_1 = model.predict(X_test_norm)\n",
        "y_pred_class_nn_1 = (y_pred_prob_nn_1 > 0.5).astype(int)"
      ]
    },
    {
      "cell_type": "code",
      "execution_count": null,
      "id": "tough-catering",
      "metadata": {
        "id": "tough-catering",
        "colab": {
          "base_uri": "https://localhost:8080/"
        },
        "outputId": "042c29b6-afd9-4f23-9992-56819b15fbdc"
      },
      "outputs": [
        {
          "output_type": "execute_result",
          "data": {
            "text/plain": [
              "array([[0],\n",
              "       [1],\n",
              "       [0],\n",
              "       [0],\n",
              "       [0],\n",
              "       [1],\n",
              "       [0],\n",
              "       [0],\n",
              "       [1],\n",
              "       [0]])"
            ]
          },
          "metadata": {},
          "execution_count": 15
        }
      ],
      "source": [
        "# Let's check out the outputs to get a feel for how keras apis work.\n",
        "y_pred_class_nn_1[:10]"
      ]
    },
    {
      "cell_type": "code",
      "execution_count": null,
      "id": "combined-zimbabwe",
      "metadata": {
        "id": "combined-zimbabwe",
        "colab": {
          "base_uri": "https://localhost:8080/"
        },
        "outputId": "d934b85f-ad53-4504-d80d-742c65914952"
      },
      "outputs": [
        {
          "output_type": "execute_result",
          "data": {
            "text/plain": [
              "array([[0.40532732],\n",
              "       [0.76059324],\n",
              "       [0.22742514],\n",
              "       [0.19866107],\n",
              "       [0.16644475],\n",
              "       [0.53475183],\n",
              "       [0.02155078],\n",
              "       [0.40539536],\n",
              "       [0.9501388 ],\n",
              "       [0.17049696]], dtype=float32)"
            ]
          },
          "metadata": {},
          "execution_count": 16
        }
      ],
      "source": [
        "y_pred_prob_nn_1[:10]"
      ]
    },
    {
      "cell_type": "markdown",
      "id": "going-estonia",
      "metadata": {
        "id": "going-estonia"
      },
      "source": [
        "Create the plot_roc function"
      ]
    },
    {
      "cell_type": "code",
      "execution_count": null,
      "id": "supposed-moderator",
      "metadata": {
        "id": "supposed-moderator"
      },
      "outputs": [],
      "source": [
        "def plot_roc(y_test, y_pred, model_name):\n",
        "    fpr, tpr, thr = roc_curve(y_test, y_pred)\n",
        "    fig, ax = plt.subplots(figsize=(8, 8))\n",
        "    ax.plot(fpr, tpr, 'k-')\n",
        "    ax.plot([0, 1], [0, 1], 'k--', linewidth=.5)  # roc curve for random model\n",
        "    ax.grid(True)\n",
        "    ax.set(title='ROC Curve for {} on PIMA diabetes problem'.format(model_name),\n",
        "           xlim=[-0.01, 1.01], ylim=[-0.01, 1.01])\n",
        "\n"
      ]
    },
    {
      "cell_type": "markdown",
      "id": "second-festival",
      "metadata": {
        "id": "second-festival"
      },
      "source": [
        "Evaluate the model performance and plot the ROC CURVE"
      ]
    },
    {
      "cell_type": "code",
      "execution_count": null,
      "id": "eleven-nebraska",
      "metadata": {
        "id": "eleven-nebraska",
        "colab": {
          "base_uri": "https://localhost:8080/",
          "height": 734
        },
        "outputId": "75d303a4-fb34-4ca4-d057-989f34a01189"
      },
      "outputs": [
        {
          "output_type": "stream",
          "name": "stdout",
          "text": [
            "accuracy is 0.750\n",
            "roc-auc is 0.821\n"
          ]
        },
        {
          "output_type": "display_data",
          "data": {
            "text/plain": [
              "<Figure size 800x800 with 1 Axes>"
            ],
            "image/png": "[encoded data removed]"
          },
          "metadata": {}
        }
      ],
      "source": [
        "\n",
        "print('accuracy is {:.3f}'.format(accuracy_score(y_test,y_pred_class_nn_1)))\n",
        "print('roc-auc is {:.3f}'.format(roc_auc_score(y_test,y_pred_prob_nn_1)))\n",
        "\n",
        "plot_roc(y_test, y_pred_prob_nn_1, 'NN')"
      ]
    },
    {
      "cell_type": "markdown",
      "id": "invalid-nevada",
      "metadata": {
        "id": "invalid-nevada"
      },
      "source": [
        " Plot the training loss and the validation loss over the different epochs and see how it looks"
      ]
    },
    {
      "cell_type": "code",
      "execution_count": null,
      "id": "hidden-physics",
      "metadata": {
        "id": "hidden-physics",
        "colab": {
          "base_uri": "https://localhost:8080/"
        },
        "outputId": "81672f47-ab32-4efc-be95-d50ec941c326"
      },
      "outputs": [
        {
          "output_type": "execute_result",
          "data": {
            "text/plain": [
              "dict_keys(['loss', 'accuracy', 'val_loss', 'val_accuracy'])"
            ]
          },
          "metadata": {},
          "execution_count": 19
        }
      ],
      "source": [
        "run_hist_1.history.keys()"
      ]
    },
    {
      "cell_type": "code",
      "execution_count": null,
      "id": "banned-spider",
      "metadata": {
        "id": "banned-spider",
        "colab": {
          "base_uri": "https://localhost:8080/",
          "height": 447
        },
        "outputId": "807cde45-8a26-43ef-d8fb-263f24767bc0"
      },
      "outputs": [
        {
          "output_type": "execute_result",
          "data": {
            "text/plain": [
              "<matplotlib.legend.Legend at 0x7ed9e0b24e20>"
            ]
          },
          "metadata": {},
          "execution_count": 20
        },
        {
          "output_type": "display_data",
          "data": {
            "text/plain": [
              "<Figure size 640x480 with 1 Axes>"
            ],
            "image/png": "[encoded data removed]"
          },
          "metadata": {}
        }
      ],
      "source": [
        "fig, ax = plt.subplots()\n",
        "ax.plot(run_hist_1.history[\"loss\"],'r', marker='.', label=\"Train Loss\")\n",
        "ax.plot(run_hist_1.history[\"val_loss\"],'b', marker='.', label=\"Validation Loss\")\n",
        "ax.legend()"
      ]
    },
    {
      "cell_type": "markdown",
      "id": "superb-circus",
      "metadata": {
        "id": "superb-circus"
      },
      "source": [
        "What is your interpretation about the result of the train and validation loss?"
      ]
    },
    {
      "cell_type": "markdown",
      "id": "german-cherry",
      "metadata": {
        "id": "german-cherry"
      },
      "source": [
        "**According to the chart, a decrease in train loss shows improvement in the model's ability to learn from the training data. However, if the validation part shows no improvement or even a decline, it suggests that the model is not performing well with new and unseen data.**"
      ]
    },
    {
      "cell_type": "markdown",
      "id": "involved-slovak",
      "metadata": {
        "id": "involved-slovak"
      },
      "source": [
        "#### Supplementary Activity"
      ]
    },
    {
      "cell_type": "markdown",
      "id": "pending-publisher",
      "metadata": {
        "id": "pending-publisher"
      },
      "source": [
        "* Build a model with two hidden layers, each with 6 nodes\n",
        "* Use the \"relu\" activation function for the hidden layers, and \"sigmoid\" for the final layer\n",
        "* Use a learning rate of .003 and train for 1500 epochs\n",
        "* Graph the trajectory of the loss functions, accuracy on both train and test set\n",
        "* Plot the roc curve for the predictions\n",
        "* Use different learning rates, numbers of epochs, and network structures.\n",
        "* Plot the results of training and validation loss using different learning rates, number of epocgs and network structures\n",
        "* Interpret your result"
      ]
    },
    {
      "cell_type": "code",
      "source": [
        "# Define the model with two hidden layers\n",
        "model_2 = Sequential([\n",
        "    Dense(6, input_shape=(8,), activation=\"relu\"),\n",
        "    Dense(6, activation=\"relu\"),\n",
        "    Dense(1, activation=\"sigmoid\")\n",
        "])"
      ],
      "metadata": {
        "id": "sym8amuL9lVc"
      },
      "execution_count": null,
      "outputs": [],
      "id": "sym8amuL9lVc"
    },
    {
      "cell_type": "code",
      "source": [
        "# Compile the model with the specified optimizer, loss function, and metrics\n",
        "model_2.compile(SGD(lr=0.003), \"binary_crossentropy\", metrics=[\"accuracy\"])"
      ],
      "metadata": {
        "colab": {
          "base_uri": "https://localhost:8080/"
        },
        "id": "U93MDYQV9tHS",
        "outputId": "4d9d5905-ec86-493a-a970-b38590d19723"
      },
      "execution_count": null,
      "outputs": [
        {
          "output_type": "stream",
          "name": "stderr",
          "text": [
            "WARNING:absl:`lr` is deprecated in Keras optimizer, please use `learning_rate` or use the legacy optimizer, e.g.,tf.keras.optimizers.legacy.SGD.\n"
          ]
        }
      ],
      "id": "U93MDYQV9tHS"
    },
    {
      "cell_type": "code",
      "source": [
        "# Train the model for 1500 epochs\n",
        "run_hist_2 = model_2.fit(X_train_norm, y_train, validation_data=(X_test_norm, y_test), epochs=1500, verbose=0)"
      ],
      "metadata": {
        "id": "Kze0fdi09xwp"
      },
      "execution_count": null,
      "outputs": [],
      "id": "Kze0fdi09xwp"
    },
    {
      "cell_type": "code",
      "source": [
        "# Plot the trajectory of loss functions and accuracy\n",
        "fig, (ax1, ax2) = plt.subplots(2, sharex=True, figsize=(8, 8))\n",
        "ax1.set_title(\"Loss\")\n",
        "ax1.plot(run_hist_2.history[\"loss\"], \"r\", label=\"Train Loss\")\n",
        "ax1.plot(run_hist_2.history[\"val_loss\"], \"b\", label=\"Validation Loss\")\n",
        "ax1.legend()\n",
        "ax2.set_title(\"Accuracy\")\n",
        "ax2.plot(run_hist_2.history[\"accuracy\"], \"r\", label=\"Train Accuracy\")\n",
        "ax2.plot(run_hist_2.history[\"val_accuracy\"], \"b\", label=\"Validation Accuracy\")\n",
        "ax2.legend()"
      ],
      "metadata": {
        "id": "U20tvVEH916N",
        "colab": {
          "base_uri": "https://localhost:8080/",
          "height": 716
        },
        "outputId": "daf1e558-cc42-4596-c6c9-a7c30fe2f4e0"
      },
      "execution_count": null,
      "outputs": [
        {
          "output_type": "execute_result",
          "data": {
            "text/plain": [
              "<matplotlib.legend.Legend at 0x7ed9f0ecad40>"
            ]
          },
          "metadata": {},
          "execution_count": 32
        },
        {
          "output_type": "display_data",
          "data": {
            "text/plain": [
              "<Figure size 800x800 with 2 Axes>"
            ],
            "image/png": "[encoded data removed]"
          },
          "metadata": {}
        }
      ],
      "id": "U20tvVEH916N"
    },
    {
      "cell_type": "code",
      "source": [
        "# Plot the ROC curve for predictions\n",
        "y_pred_prob_nn_2 = model_2.predict(X_test_norm)\n",
        "plot_roc(y_test, y_pred_prob_nn_2, 'NN with 2 Hidden Layers')"
      ],
      "metadata": {
        "id": "atwhOmB094hq",
        "colab": {
          "base_uri": "https://localhost:8080/",
          "height": 716
        },
        "outputId": "1bdc6b5a-5c8c-4342-b264-8c024665498f"
      },
      "execution_count": null,
      "outputs": [
        {
          "output_type": "stream",
          "name": "stdout",
          "text": [
            "6/6 [==============================] - 0s 3ms/step\n"
          ]
        },
        {
          "output_type": "display_data",
          "data": {
            "text/plain": [
              "<Figure size 800x800 with 1 Axes>"
            ],
            "image/png": "[encoded data removed]"
          },
          "metadata": {}
        }
      ],
      "id": "atwhOmB094hq"
    },
    {
      "cell_type": "code",
      "source": [
        "# Define the model with three hidden layers\n",
        "model_3 = Sequential([\n",
        "    Dense(5, input_shape=(8,), activation=\"relu\"),\n",
        "    Dense(5, activation=\"relu\"),\n",
        "    Dense(5, activation=\"relu\"),\n",
        "    Dense(1, activation=\"sigmoid\")\n",
        "])"
      ],
      "metadata": {
        "id": "fIKuXlPe_yQg"
      },
      "execution_count": null,
      "outputs": [],
      "id": "fIKuXlPe_yQg"
    },
    {
      "cell_type": "code",
      "source": [
        "# Compile the model with the specified optimizer, loss function, and metrics\n",
        "model_3.compile(SGD(lr=0.005), \"binary_crossentropy\", metrics=[\"accuracy\"])"
      ],
      "metadata": {
        "id": "HFou3ATp_3Ap",
        "colab": {
          "base_uri": "https://localhost:8080/"
        },
        "outputId": "083b72ba-0275-4cfe-e2a9-aac1820b1dd7"
      },
      "execution_count": null,
      "outputs": [
        {
          "output_type": "stream",
          "name": "stderr",
          "text": [
            "WARNING:absl:`lr` is deprecated in Keras optimizer, please use `learning_rate` or use the legacy optimizer, e.g.,tf.keras.optimizers.legacy.SGD.\n"
          ]
        }
      ],
      "id": "HFou3ATp_3Ap"
    },
    {
      "cell_type": "code",
      "source": [
        "# Train the model for 1000 epochs\n",
        "run_hist_3 = model_3.fit(X_train_norm, y_train, validation_data=(X_test_norm, y_test), epochs=1000, verbose=0)"
      ],
      "metadata": {
        "id": "UUVoWxrv_5Vp"
      },
      "execution_count": null,
      "outputs": [],
      "id": "UUVoWxrv_5Vp"
    },
    {
      "cell_type": "code",
      "source": [
        "# Plot the trajectory of loss functions and accuracy\n",
        "fig, (ax1, ax2) = plt.subplots(2, sharex=True, figsize=(8, 8))\n",
        "ax1.set_title(\"Loss\")\n",
        "ax1.plot(run_hist_3.history[\"loss\"], \"r\", label=\"Train Loss\")\n",
        "ax1.plot(run_hist_3.history[\"val_loss\"], \"b\", label=\"Validation Loss\")\n",
        "ax1.legend()\n",
        "ax2.set_title(\"Accuracy\")\n",
        "ax2.plot(run_hist_3.history[\"accuracy\"], \"r\", label=\"Train Accuracy\")\n",
        "ax2.plot(run_hist_3.history[\"val_accuracy\"], \"b\", label=\"Validation Accuracy\")\n",
        "ax2.legend()"
      ],
      "metadata": {
        "id": "UHRy8F0K_74V",
        "colab": {
          "base_uri": "https://localhost:8080/",
          "height": 716
        },
        "outputId": "1b1e19c7-a779-4c62-f0e4-3b8d909a7e16"
      },
      "execution_count": null,
      "outputs": [
        {
          "output_type": "execute_result",
          "data": {
            "text/plain": [
              "<matplotlib.legend.Legend at 0x7ed9f0b41ff0>"
            ]
          },
          "metadata": {},
          "execution_count": 37
        },
        {
          "output_type": "display_data",
          "data": {
            "text/plain": [
              "<Figure size 800x800 with 2 Axes>"
            ],
            "image/png": "[encoded data removed]"
          },
          "metadata": {}
        }
      ],
      "id": "UHRy8F0K_74V"
    },
    {
      "cell_type": "code",
      "source": [
        "# Plot the ROC curve for predictions\n",
        "y_pred_prob_nn_3 = model_3.predict(X_test_norm)\n",
        "plot_roc(y_test, y_pred_prob_nn_3, 'NN with 3 Hidden Layers')"
      ],
      "metadata": {
        "id": "De4EHm4A_-GC",
        "colab": {
          "base_uri": "https://localhost:8080/",
          "height": 716
        },
        "outputId": "167ae830-6c24-44a7-b4b8-c9ee97990a07"
      },
      "execution_count": null,
      "outputs": [
        {
          "output_type": "stream",
          "name": "stdout",
          "text": [
            "6/6 [==============================] - 0s 2ms/step\n"
          ]
        },
        {
          "output_type": "display_data",
          "data": {
            "text/plain": [
              "<Figure size 800x800 with 1 Axes>"
            ],
            "image/png": "[encoded data removed]"
          },
          "metadata": {}
        }
      ],
      "id": "De4EHm4A_-GC"
    },
    {
      "cell_type": "markdown",
      "id": "intimate-factory",
      "metadata": {
        "id": "intimate-factory"
      },
      "source": [
        "#### Conclusion"
      ]
    },
    {
      "cell_type": "markdown",
      "id": "broad-appointment",
      "metadata": {
        "id": "broad-appointment"
      },
      "source": [
        "*****In this activity, we demonstrated how to build training neural networks, through visual analysis of the plots and comparison of model performance, you can gain valuable insights into the behavior and effectiveness of your neural network models for the given task. Adjustments and further experimentation can help improve their performance and address any observed issues.*****"
      ]
    }
  ],
  "metadata": {
    "kernelspec": {
      "display_name": "Python 3",
      "language": "python",
      "name": "python3"
    },
    "language_info": {
      "codemirror_mode": {
        "name": "ipython",
        "version": 3
      },
      "file_extension": ".py",
      "mimetype": "text/x-python",
      "name": "python",
      "nbconvert_exporter": "python",
      "pygments_lexer": "ipython3",
      "version": "3.7.10"
    },
    "colab": {
      "provenance": [],
      "include_colab_link": true
    }
  },
  "nbformat": 4,
  "nbformat_minor": 5
}